{
  "nbformat": 4,
  "nbformat_minor": 0,
  "metadata": {
    "colab": {
      "provenance": []
    },
    "kernelspec": {
      "name": "python3",
      "display_name": "Python 3"
    },
    "language_info": {
      "name": "python"
    }
  },
  "cells": [
    {
      "cell_type": "code",
      "execution_count": 1,
      "metadata": {
        "id": "Yh6J_82ASTAg"
      },
      "outputs": [],
      "source": [
        "import pandas as pd\n",
        "from datetime import datetime"
      ]
    },
    {
      "cell_type": "code",
      "source": [
        "timestamp=pd.Timestamp(datetime(2022, 1, 1))"
      ],
      "metadata": {
        "id": "U7y6-c4vSdQ-"
      },
      "execution_count": 2,
      "outputs": []
    },
    {
      "cell_type": "code",
      "source": [
        "timestamp"
      ],
      "metadata": {
        "colab": {
          "base_uri": "https://localhost:8080/"
        },
        "id": "khLLmflWSkfL",
        "outputId": "45e80907-1479-4009-c443-4b32a8001b9a"
      },
      "execution_count": 3,
      "outputs": [
        {
          "output_type": "execute_result",
          "data": {
            "text/plain": [
              "Timestamp('2022-01-01 00:00:00')"
            ]
          },
          "metadata": {},
          "execution_count": 3
        }
      ]
    },
    {
      "cell_type": "code",
      "source": [
        "type(timestamp)"
      ],
      "metadata": {
        "colab": {
          "base_uri": "https://localhost:8080/"
        },
        "id": "8tBW5l8ASs8W",
        "outputId": "6184cabf-1488-40ca-bda1-8481fed15e7c"
      },
      "execution_count": 7,
      "outputs": [
        {
          "output_type": "execute_result",
          "data": {
            "text/plain": [
              "pandas._libs.tslibs.timestamps.Timestamp"
            ]
          },
          "metadata": {},
          "execution_count": 7
        }
      ]
    },
    {
      "cell_type": "code",
      "source": [
        "timestamp.year"
      ],
      "metadata": {
        "colab": {
          "base_uri": "https://localhost:8080/"
        },
        "id": "BZUBqiT4SlX0",
        "outputId": "bc560bc5-a6bd-46d2-f39e-7c2ff87fe385"
      },
      "execution_count": 4,
      "outputs": [
        {
          "output_type": "execute_result",
          "data": {
            "text/plain": [
              "2022"
            ]
          },
          "metadata": {},
          "execution_count": 4
        }
      ]
    },
    {
      "cell_type": "code",
      "source": [
        "timestamp.day_name()"
      ],
      "metadata": {
        "colab": {
          "base_uri": "https://localhost:8080/",
          "height": 35
        },
        "id": "WGM5_D79SqD4",
        "outputId": "2507bec4-8174-4e93-c60c-f5d6aa9132b1"
      },
      "execution_count": 5,
      "outputs": [
        {
          "output_type": "execute_result",
          "data": {
            "text/plain": [
              "'Saturday'"
            ],
            "application/vnd.google.colaboratory.intrinsic+json": {
              "type": "string"
            }
          },
          "metadata": {},
          "execution_count": 5
        }
      ]
    },
    {
      "cell_type": "markdown",
      "source": [
        "Period Function has the frequency attribute, which is useful to store the information related to frequency and manipulate the same!"
      ],
      "metadata": {
        "id": "p4alKAppS5NN"
      }
    },
    {
      "cell_type": "code",
      "source": [
        "p=pd.Period('2022-01')\n",
        "p"
      ],
      "metadata": {
        "colab": {
          "base_uri": "https://localhost:8080/"
        },
        "id": "Ml7x0bBJSsRV",
        "outputId": "27560ad6-fd6e-41e8-e360-7641683cafdc"
      },
      "execution_count": 8,
      "outputs": [
        {
          "output_type": "execute_result",
          "data": {
            "text/plain": [
              "Period('2022-01', 'M')"
            ]
          },
          "metadata": {},
          "execution_count": 8
        }
      ]
    },
    {
      "cell_type": "markdown",
      "source": [
        "Here, the frequency is by M"
      ],
      "metadata": {
        "id": "tVcJoyv4TL5k"
      }
    },
    {
      "cell_type": "code",
      "source": [
        "w=p.asfreq('D')"
      ],
      "metadata": {
        "id": "8t6-_on-TIQR"
      },
      "execution_count": 11,
      "outputs": []
    },
    {
      "cell_type": "markdown",
      "source": [
        "By converting it to daily, by default it takes month end\n",
        "\n"
      ],
      "metadata": {
        "id": "Xixm_87eTVba"
      }
    },
    {
      "cell_type": "code",
      "source": [
        "p+2"
      ],
      "metadata": {
        "colab": {
          "base_uri": "https://localhost:8080/"
        },
        "id": "hohj-7rSTVwA",
        "outputId": "d8d6b427-256d-4db6-dc11-5d9ba8d47ada"
      },
      "execution_count": 12,
      "outputs": [
        {
          "output_type": "execute_result",
          "data": {
            "text/plain": [
              "Period('2022-03', 'M')"
            ]
          },
          "metadata": {},
          "execution_count": 12
        }
      ]
    },
    {
      "cell_type": "code",
      "source": [
        "w+2"
      ],
      "metadata": {
        "colab": {
          "base_uri": "https://localhost:8080/"
        },
        "id": "GWpP1WwoTUIU",
        "outputId": "5ae05dec-369b-4138-a9f1-ec1e5bd4faab"
      },
      "execution_count": 14,
      "outputs": [
        {
          "output_type": "execute_result",
          "data": {
            "text/plain": [
              "Period('2022-02-02', 'D')"
            ]
          },
          "metadata": {},
          "execution_count": 14
        }
      ]
    },
    {
      "cell_type": "markdown",
      "source": [
        "**To Create Time Series Data**"
      ],
      "metadata": {
        "id": "I3yb5yFlTvdS"
      }
    },
    {
      "cell_type": "code",
      "source": [
        "index=pd.date_range(start='2023-1-1', periods=12, freq='M')"
      ],
      "metadata": {
        "id": "aISSJ0t7Tu9P"
      },
      "execution_count": 21,
      "outputs": []
    },
    {
      "cell_type": "code",
      "source": [
        "index"
      ],
      "metadata": {
        "colab": {
          "base_uri": "https://localhost:8080/"
        },
        "id": "1dMz4EEdTofk",
        "outputId": "e4b406b6-42fa-41e1-d0eb-aec8a5267f69"
      },
      "execution_count": 22,
      "outputs": [
        {
          "output_type": "execute_result",
          "data": {
            "text/plain": [
              "DatetimeIndex(['2023-01-31', '2023-02-28', '2023-03-31', '2023-04-30',\n",
              "               '2023-05-31', '2023-06-30', '2023-07-31', '2023-08-31',\n",
              "               '2023-09-30', '2023-10-31', '2023-11-30', '2023-12-31'],\n",
              "              dtype='datetime64[ns]', freq='M')"
            ]
          },
          "metadata": {},
          "execution_count": 22
        }
      ]
    },
    {
      "cell_type": "code",
      "source": [
        "#Print the Sequence of Date of January 2022"
      ],
      "metadata": {
        "id": "y2Ki21lsT_ND"
      },
      "execution_count": null,
      "outputs": []
    },
    {
      "cell_type": "code",
      "source": [
        "df=pd.DataFrame({'data':index})"
      ],
      "metadata": {
        "id": "3_pIR4krUJ-E"
      },
      "execution_count": 27,
      "outputs": []
    },
    {
      "cell_type": "code",
      "source": [
        "df.head()"
      ],
      "metadata": {
        "colab": {
          "base_uri": "https://localhost:8080/",
          "height": 206
        },
        "id": "oZyhxJ0XUcud",
        "outputId": "bada2d9c-3bbc-49d6-daee-15fc443c7bcb"
      },
      "execution_count": 28,
      "outputs": [
        {
          "output_type": "execute_result",
          "data": {
            "text/plain": [
              "        data\n",
              "0 2023-01-31\n",
              "1 2023-02-28\n",
              "2 2023-03-31\n",
              "3 2023-04-30\n",
              "4 2023-05-31"
            ],
            "text/html": [
              "\n",
              "  <div id=\"df-2604b55d-22a6-47ab-a4f2-be703bd73b69\">\n",
              "    <div class=\"colab-df-container\">\n",
              "      <div>\n",
              "<style scoped>\n",
              "    .dataframe tbody tr th:only-of-type {\n",
              "        vertical-align: middle;\n",
              "    }\n",
              "\n",
              "    .dataframe tbody tr th {\n",
              "        vertical-align: top;\n",
              "    }\n",
              "\n",
              "    .dataframe thead th {\n",
              "        text-align: right;\n",
              "    }\n",
              "</style>\n",
              "<table border=\"1\" class=\"dataframe\">\n",
              "  <thead>\n",
              "    <tr style=\"text-align: right;\">\n",
              "      <th></th>\n",
              "      <th>data</th>\n",
              "    </tr>\n",
              "  </thead>\n",
              "  <tbody>\n",
              "    <tr>\n",
              "      <th>0</th>\n",
              "      <td>2023-01-31</td>\n",
              "    </tr>\n",
              "    <tr>\n",
              "      <th>1</th>\n",
              "      <td>2023-02-28</td>\n",
              "    </tr>\n",
              "    <tr>\n",
              "      <th>2</th>\n",
              "      <td>2023-03-31</td>\n",
              "    </tr>\n",
              "    <tr>\n",
              "      <th>3</th>\n",
              "      <td>2023-04-30</td>\n",
              "    </tr>\n",
              "    <tr>\n",
              "      <th>4</th>\n",
              "      <td>2023-05-31</td>\n",
              "    </tr>\n",
              "  </tbody>\n",
              "</table>\n",
              "</div>\n",
              "      <button class=\"colab-df-convert\" onclick=\"convertToInteractive('df-2604b55d-22a6-47ab-a4f2-be703bd73b69')\"\n",
              "              title=\"Convert this dataframe to an interactive table.\"\n",
              "              style=\"display:none;\">\n",
              "        \n",
              "  <svg xmlns=\"http://www.w3.org/2000/svg\" height=\"24px\"viewBox=\"0 0 24 24\"\n",
              "       width=\"24px\">\n",
              "    <path d=\"M0 0h24v24H0V0z\" fill=\"none\"/>\n",
              "    <path d=\"M18.56 5.44l.94 2.06.94-2.06 2.06-.94-2.06-.94-.94-2.06-.94 2.06-2.06.94zm-11 1L8.5 8.5l.94-2.06 2.06-.94-2.06-.94L8.5 2.5l-.94 2.06-2.06.94zm10 10l.94 2.06.94-2.06 2.06-.94-2.06-.94-.94-2.06-.94 2.06-2.06.94z\"/><path d=\"M17.41 7.96l-1.37-1.37c-.4-.4-.92-.59-1.43-.59-.52 0-1.04.2-1.43.59L10.3 9.45l-7.72 7.72c-.78.78-.78 2.05 0 2.83L4 21.41c.39.39.9.59 1.41.59.51 0 1.02-.2 1.41-.59l7.78-7.78 2.81-2.81c.8-.78.8-2.07 0-2.86zM5.41 20L4 18.59l7.72-7.72 1.47 1.35L5.41 20z\"/>\n",
              "  </svg>\n",
              "      </button>\n",
              "      \n",
              "  <style>\n",
              "    .colab-df-container {\n",
              "      display:flex;\n",
              "      flex-wrap:wrap;\n",
              "      gap: 12px;\n",
              "    }\n",
              "\n",
              "    .colab-df-convert {\n",
              "      background-color: #E8F0FE;\n",
              "      border: none;\n",
              "      border-radius: 50%;\n",
              "      cursor: pointer;\n",
              "      display: none;\n",
              "      fill: #1967D2;\n",
              "      height: 32px;\n",
              "      padding: 0 0 0 0;\n",
              "      width: 32px;\n",
              "    }\n",
              "\n",
              "    .colab-df-convert:hover {\n",
              "      background-color: #E2EBFA;\n",
              "      box-shadow: 0px 1px 2px rgba(60, 64, 67, 0.3), 0px 1px 3px 1px rgba(60, 64, 67, 0.15);\n",
              "      fill: #174EA6;\n",
              "    }\n",
              "\n",
              "    [theme=dark] .colab-df-convert {\n",
              "      background-color: #3B4455;\n",
              "      fill: #D2E3FC;\n",
              "    }\n",
              "\n",
              "    [theme=dark] .colab-df-convert:hover {\n",
              "      background-color: #434B5C;\n",
              "      box-shadow: 0px 1px 3px 1px rgba(0, 0, 0, 0.15);\n",
              "      filter: drop-shadow(0px 1px 2px rgba(0, 0, 0, 0.3));\n",
              "      fill: #FFFFFF;\n",
              "    }\n",
              "  </style>\n",
              "\n",
              "      <script>\n",
              "        const buttonEl =\n",
              "          document.querySelector('#df-2604b55d-22a6-47ab-a4f2-be703bd73b69 button.colab-df-convert');\n",
              "        buttonEl.style.display =\n",
              "          google.colab.kernel.accessAllowed ? 'block' : 'none';\n",
              "\n",
              "        async function convertToInteractive(key) {\n",
              "          const element = document.querySelector('#df-2604b55d-22a6-47ab-a4f2-be703bd73b69');\n",
              "          const dataTable =\n",
              "            await google.colab.kernel.invokeFunction('convertToInteractive',\n",
              "                                                     [key], {});\n",
              "          if (!dataTable) return;\n",
              "\n",
              "          const docLinkHtml = 'Like what you see? Visit the ' +\n",
              "            '<a target=\"_blank\" href=https://colab.research.google.com/notebooks/data_table.ipynb>data table notebook</a>'\n",
              "            + ' to learn more about interactive tables.';\n",
              "          element.innerHTML = '';\n",
              "          dataTable['output_type'] = 'display_data';\n",
              "          await google.colab.output.renderOutput(dataTable, element);\n",
              "          const docLink = document.createElement('div');\n",
              "          docLink.innerHTML = docLinkHtml;\n",
              "          element.appendChild(docLink);\n",
              "        }\n",
              "      </script>\n",
              "    </div>\n",
              "  </div>\n",
              "  "
            ]
          },
          "metadata": {},
          "execution_count": 28
        }
      ]
    },
    {
      "cell_type": "code",
      "source": [
        "df.info()"
      ],
      "metadata": {
        "colab": {
          "base_uri": "https://localhost:8080/"
        },
        "id": "eBJQCNekUeds",
        "outputId": "75fe3fe6-7aa5-483e-b9fe-8b9e689c6f3b"
      },
      "execution_count": 29,
      "outputs": [
        {
          "output_type": "stream",
          "name": "stdout",
          "text": [
            "<class 'pandas.core.frame.DataFrame'>\n",
            "RangeIndex: 12 entries, 0 to 11\n",
            "Data columns (total 1 columns):\n",
            " #   Column  Non-Null Count  Dtype         \n",
            "---  ------  --------------  -----         \n",
            " 0   data    12 non-null     datetime64[ns]\n",
            "dtypes: datetime64[ns](1)\n",
            "memory usage: 224.0 bytes\n"
          ]
        }
      ]
    },
    {
      "cell_type": "markdown",
      "source": [
        "ALIAS of Different Frequency:\n",
        "\n",
        "Hour (H)\n",
        "\n",
        "Day (D)\n",
        "\n",
        "Week (W)\n",
        "\n",
        "Month (M)\n",
        "\n",
        "Quarter (Q)\n",
        "\n",
        "Year (Y)"
      ],
      "metadata": {
        "id": "NdKrwDF4U3nS"
      }
    },
    {
      "cell_type": "markdown",
      "source": [
        "# **Task 1**\n",
        "\n",
        "Print Day of Week and Name of Day from Date '2022-3-2' to '2022-3-10' "
      ],
      "metadata": {
        "id": "bQrTwJReXpS4"
      }
    },
    {
      "cell_type": "code",
      "source": [
        "# days=\n",
        "\n",
        "# for x in _____:\n",
        "#   print(______, ______)"
      ],
      "metadata": {
        "id": "PrdVhodzUp9k"
      },
      "execution_count": null,
      "outputs": []
    },
    {
      "cell_type": "markdown",
      "source": [
        "# **Partial String Indexing**\n",
        "\n",
        "It is useful for dividing the data into subdata and for selecting/indexing using strings that parse to dates."
      ],
      "metadata": {
        "id": "SzMDCvcHY0rr"
      }
    },
    {
      "cell_type": "code",
      "source": [
        "from google.colab import files\n",
        "files.upload()"
      ],
      "metadata": {
        "colab": {
          "base_uri": "https://localhost:8080/",
          "height": 1000
        },
        "id": "3_p-p9OEYhW3",
        "outputId": "834fd905-aa05-48df-a000-d63a445429f8"
      },
      "execution_count": 30,
      "outputs": [
        {
          "output_type": "display_data",
          "data": {
            "text/plain": [
              "<IPython.core.display.HTML object>"
            ],
            "text/html": [
              "\n",
              "     <input type=\"file\" id=\"files-c2054a53-b1f1-4c78-b4fc-6fc22fa31bb4\" name=\"files[]\" multiple disabled\n",
              "        style=\"border:none\" />\n",
              "     <output id=\"result-c2054a53-b1f1-4c78-b4fc-6fc22fa31bb4\">\n",
              "      Upload widget is only available when the cell has been executed in the\n",
              "      current browser session. Please rerun this cell to enable.\n",
              "      </output>\n",
              "      <script>// Copyright 2017 Google LLC\n",
              "//\n",
              "// Licensed under the Apache License, Version 2.0 (the \"License\");\n",
              "// you may not use this file except in compliance with the License.\n",
              "// You may obtain a copy of the License at\n",
              "//\n",
              "//      http://www.apache.org/licenses/LICENSE-2.0\n",
              "//\n",
              "// Unless required by applicable law or agreed to in writing, software\n",
              "// distributed under the License is distributed on an \"AS IS\" BASIS,\n",
              "// WITHOUT WARRANTIES OR CONDITIONS OF ANY KIND, either express or implied.\n",
              "// See the License for the specific language governing permissions and\n",
              "// limitations under the License.\n",
              "\n",
              "/**\n",
              " * @fileoverview Helpers for google.colab Python module.\n",
              " */\n",
              "(function(scope) {\n",
              "function span(text, styleAttributes = {}) {\n",
              "  const element = document.createElement('span');\n",
              "  element.textContent = text;\n",
              "  for (const key of Object.keys(styleAttributes)) {\n",
              "    element.style[key] = styleAttributes[key];\n",
              "  }\n",
              "  return element;\n",
              "}\n",
              "\n",
              "// Max number of bytes which will be uploaded at a time.\n",
              "const MAX_PAYLOAD_SIZE = 100 * 1024;\n",
              "\n",
              "function _uploadFiles(inputId, outputId) {\n",
              "  const steps = uploadFilesStep(inputId, outputId);\n",
              "  const outputElement = document.getElementById(outputId);\n",
              "  // Cache steps on the outputElement to make it available for the next call\n",
              "  // to uploadFilesContinue from Python.\n",
              "  outputElement.steps = steps;\n",
              "\n",
              "  return _uploadFilesContinue(outputId);\n",
              "}\n",
              "\n",
              "// This is roughly an async generator (not supported in the browser yet),\n",
              "// where there are multiple asynchronous steps and the Python side is going\n",
              "// to poll for completion of each step.\n",
              "// This uses a Promise to block the python side on completion of each step,\n",
              "// then passes the result of the previous step as the input to the next step.\n",
              "function _uploadFilesContinue(outputId) {\n",
              "  const outputElement = document.getElementById(outputId);\n",
              "  const steps = outputElement.steps;\n",
              "\n",
              "  const next = steps.next(outputElement.lastPromiseValue);\n",
              "  return Promise.resolve(next.value.promise).then((value) => {\n",
              "    // Cache the last promise value to make it available to the next\n",
              "    // step of the generator.\n",
              "    outputElement.lastPromiseValue = value;\n",
              "    return next.value.response;\n",
              "  });\n",
              "}\n",
              "\n",
              "/**\n",
              " * Generator function which is called between each async step of the upload\n",
              " * process.\n",
              " * @param {string} inputId Element ID of the input file picker element.\n",
              " * @param {string} outputId Element ID of the output display.\n",
              " * @return {!Iterable<!Object>} Iterable of next steps.\n",
              " */\n",
              "function* uploadFilesStep(inputId, outputId) {\n",
              "  const inputElement = document.getElementById(inputId);\n",
              "  inputElement.disabled = false;\n",
              "\n",
              "  const outputElement = document.getElementById(outputId);\n",
              "  outputElement.innerHTML = '';\n",
              "\n",
              "  const pickedPromise = new Promise((resolve) => {\n",
              "    inputElement.addEventListener('change', (e) => {\n",
              "      resolve(e.target.files);\n",
              "    });\n",
              "  });\n",
              "\n",
              "  const cancel = document.createElement('button');\n",
              "  inputElement.parentElement.appendChild(cancel);\n",
              "  cancel.textContent = 'Cancel upload';\n",
              "  const cancelPromise = new Promise((resolve) => {\n",
              "    cancel.onclick = () => {\n",
              "      resolve(null);\n",
              "    };\n",
              "  });\n",
              "\n",
              "  // Wait for the user to pick the files.\n",
              "  const files = yield {\n",
              "    promise: Promise.race([pickedPromise, cancelPromise]),\n",
              "    response: {\n",
              "      action: 'starting',\n",
              "    }\n",
              "  };\n",
              "\n",
              "  cancel.remove();\n",
              "\n",
              "  // Disable the input element since further picks are not allowed.\n",
              "  inputElement.disabled = true;\n",
              "\n",
              "  if (!files) {\n",
              "    return {\n",
              "      response: {\n",
              "        action: 'complete',\n",
              "      }\n",
              "    };\n",
              "  }\n",
              "\n",
              "  for (const file of files) {\n",
              "    const li = document.createElement('li');\n",
              "    li.append(span(file.name, {fontWeight: 'bold'}));\n",
              "    li.append(span(\n",
              "        `(${file.type || 'n/a'}) - ${file.size} bytes, ` +\n",
              "        `last modified: ${\n",
              "            file.lastModifiedDate ? file.lastModifiedDate.toLocaleDateString() :\n",
              "                                    'n/a'} - `));\n",
              "    const percent = span('0% done');\n",
              "    li.appendChild(percent);\n",
              "\n",
              "    outputElement.appendChild(li);\n",
              "\n",
              "    const fileDataPromise = new Promise((resolve) => {\n",
              "      const reader = new FileReader();\n",
              "      reader.onload = (e) => {\n",
              "        resolve(e.target.result);\n",
              "      };\n",
              "      reader.readAsArrayBuffer(file);\n",
              "    });\n",
              "    // Wait for the data to be ready.\n",
              "    let fileData = yield {\n",
              "      promise: fileDataPromise,\n",
              "      response: {\n",
              "        action: 'continue',\n",
              "      }\n",
              "    };\n",
              "\n",
              "    // Use a chunked sending to avoid message size limits. See b/62115660.\n",
              "    let position = 0;\n",
              "    do {\n",
              "      const length = Math.min(fileData.byteLength - position, MAX_PAYLOAD_SIZE);\n",
              "      const chunk = new Uint8Array(fileData, position, length);\n",
              "      position += length;\n",
              "\n",
              "      const base64 = btoa(String.fromCharCode.apply(null, chunk));\n",
              "      yield {\n",
              "        response: {\n",
              "          action: 'append',\n",
              "          file: file.name,\n",
              "          data: base64,\n",
              "        },\n",
              "      };\n",
              "\n",
              "      let percentDone = fileData.byteLength === 0 ?\n",
              "          100 :\n",
              "          Math.round((position / fileData.byteLength) * 100);\n",
              "      percent.textContent = `${percentDone}% done`;\n",
              "\n",
              "    } while (position < fileData.byteLength);\n",
              "  }\n",
              "\n",
              "  // All done.\n",
              "  yield {\n",
              "    response: {\n",
              "      action: 'complete',\n",
              "    }\n",
              "  };\n",
              "}\n",
              "\n",
              "scope.google = scope.google || {};\n",
              "scope.google.colab = scope.google.colab || {};\n",
              "scope.google.colab._files = {\n",
              "  _uploadFiles,\n",
              "  _uploadFilesContinue,\n",
              "};\n",
              "})(self);\n",
              "</script> "
            ]
          },
          "metadata": {}
        },
        {
          "output_type": "stream",
          "name": "stdout",
          "text": [
            "Saving BTC-USD (4).csv to BTC-USD (4).csv\n"
          ]
        },
        {
          "output_type": "execute_result",
          "data": {
            "text/plain": [
              "{'BTC-USD (4).csv': b'Date,Open,High,Low,Close,Adj Close,Volume\\n2022-03-07,38429.304688,39430.226563,37260.203125,38062.039063,38062.039063,28546143503\\n2022-03-08,38059.902344,39304.441406,37957.386719,38737.269531,38737.269531,25776583476\\n2022-03-09,38742.816406,42465.671875,38706.093750,41982.925781,41982.925781,32284121034\\n2022-03-10,41974.070313,42004.726563,38832.941406,39437.460938,39437.460938,31078064711\\n2022-03-11,39439.968750,40081.679688,38347.433594,38794.972656,38794.972656,26364890465\\n2022-03-12,38794.464844,39308.597656,38772.535156,38904.011719,38904.011719,14616450657\\n2022-03-13,38884.726563,39209.351563,37728.144531,37849.664063,37849.664063,17300745310\\n2022-03-14,37846.316406,39742.500000,37680.734375,39666.753906,39666.753906,24322159070\\n2022-03-15,39664.250000,39794.628906,38310.210938,39338.785156,39338.785156,23934000868\\n2022-03-16,39335.570313,41465.453125,39022.347656,41143.929688,41143.929688,39616916192\\n2022-03-17,41140.843750,41287.535156,40662.871094,40951.378906,40951.378906,22009601093\\n2022-03-18,40944.839844,42195.746094,40302.398438,41801.156250,41801.156250,34421564942\\n2022-03-19,41794.648438,42316.554688,41602.667969,42190.652344,42190.652344,19664853187\\n2022-03-20,42191.406250,42241.164063,41004.757813,41247.824219,41247.824219,20127946682\\n2022-03-21,41246.132813,41454.410156,40668.042969,41077.996094,41077.996094,24615543271\\n2022-03-22,41074.105469,43124.707031,40948.281250,42358.808594,42358.808594,32004652376\\n2022-03-23,42364.378906,42893.507813,41877.507813,42892.957031,42892.957031,25242943069\\n2022-03-24,42886.652344,44131.855469,42726.164063,43960.933594,43960.933594,31042992291\\n2022-03-25,43964.546875,44999.492188,43706.285156,44348.730469,44348.730469,30574413034\\n2022-03-26,44349.859375,44735.996094,44166.273438,44500.828125,44500.828125,16950455995\\n2022-03-27,44505.355469,46827.546875,44437.292969,46820.492188,46820.492188,28160889722\\n2022-03-28,46821.851563,48086.835938,46690.203125,47128.003906,47128.003906,36362175703\\n2022-03-29,47100.437500,48022.289063,47100.437500,47465.730469,47465.730469,31397059069\\n2022-03-30,47456.898438,47655.148438,46746.210938,47062.664063,47062.664063,29333883962\\n2022-03-31,47062.148438,47512.027344,45390.539063,45538.675781,45538.675781,33327427106\\n2022-04-01,45554.164063,46616.242188,44403.140625,46281.644531,46281.644531,38162644287\\n2022-04-02,46285.500000,47028.281250,45782.511719,45868.949219,45868.949219,29336594194\\n2022-04-03,45859.128906,47313.476563,45634.105469,46453.566406,46453.566406,25414397610\\n2022-04-04,46445.273438,46791.089844,45235.816406,46622.675781,46622.675781,32499785455\\n2022-04-05,46624.507813,47106.140625,45544.808594,45555.992188,45555.992188,29640604055\\n2022-04-06,45544.355469,45544.355469,43193.953125,43206.738281,43206.738281,39393395788\\n2022-04-07,43207.500000,43860.699219,42899.906250,43503.847656,43503.847656,26101973106\\n2022-04-08,43505.136719,43903.019531,42183.289063,42287.664063,42287.664063,27215995394\\n2022-04-09,42282.078125,42786.816406,42183.253906,42782.136719,42782.136719,16050772496\\n2022-04-10,42781.089844,43376.378906,42021.207031,42207.671875,42207.671875,17654475582\\n2022-04-11,42201.039063,42424.589844,39373.058594,39521.902344,39521.902344,33949912166\\n2022-04-12,39533.714844,40617.585938,39388.328125,40127.183594,40127.183594,30991500854\\n2022-04-13,40123.570313,41430.054688,39712.746094,41166.730469,41166.730469,27691105228\\n2022-04-14,41160.218750,41451.480469,39695.746094,39935.515625,39935.515625,24342001973\\n2022-04-15,39939.402344,40617.722656,39866.832031,40553.464844,40553.464844,21756855753\\n2022-04-16,40552.316406,40633.679688,40078.425781,40424.484375,40424.484375,16833150693\\n2022-04-17,40417.777344,40570.726563,39620.894531,39716.953125,39716.953125,19087633042\\n2022-04-18,39721.203125,40986.320313,38696.191406,40826.214844,40826.214844,33705182072\\n2022-04-19,40828.175781,41672.960938,40618.632813,41502.750000,41502.750000,25303206547\\n2022-04-20,41501.746094,42126.300781,40961.097656,41374.378906,41374.378906,27819532341\\n2022-04-21,41371.515625,42893.582031,40063.828125,40527.363281,40527.363281,35372786395\\n2022-04-22,40525.863281,40777.757813,39315.417969,39740.320313,39740.320313,28011716745\\n2022-04-23,39738.722656,39935.859375,39352.203125,39486.730469,39486.730469,16138021249\\n2022-04-24,39478.375000,39845.925781,39233.539063,39469.292969,39469.292969,17964398167\\n2022-04-25,39472.605469,40491.753906,38338.378906,40458.308594,40458.308594,35445730570\\n2022-04-26,40448.421875,40713.890625,37884.984375,38117.460938,38117.460938,34569088416\\n2022-04-27,38120.300781,39397.917969,37997.312500,39241.121094,39241.121094,30981015184\\n2022-04-28,39241.429688,40269.464844,38941.421875,39773.828125,39773.828125,33903704907\\n2022-04-29,39768.617188,39887.269531,38235.535156,38609.824219,38609.824219,30882994649\\n2022-04-30,38605.859375,38771.210938,37697.941406,37714.875000,37714.875000,23895713731\\n2022-05-01,37713.265625,38627.859375,37585.789063,38469.093750,38469.093750,27002760110\\n2022-05-02,38472.187500,39074.972656,38156.562500,38529.328125,38529.328125,32922642426\\n2022-05-03,38528.109375,38629.996094,37585.621094,37750.453125,37750.453125,27326943244\\n2022-05-04,37748.011719,39902.949219,37732.058594,39698.371094,39698.371094,36754404490\\n2022-05-05,39695.746094,39789.281250,35856.515625,36575.140625,36575.140625,43106256317\\n2022-05-06,36573.183594,36624.359375,35482.132813,36040.921875,36040.921875,37795577489\\n2022-05-07,36042.503906,36129.925781,34940.824219,35501.953125,35501.953125,24375896406\\n2022-05-08,35502.941406,35502.941406,33878.964844,34059.265625,34059.265625,36763041910\\n2022-05-09,34060.015625,34222.074219,30296.953125,30296.953125,30296.953125,63355494961\\n2022-05-10,30273.654297,32596.308594,29944.802734,31022.906250,31022.906250,59811038817\\n2022-05-11,31016.183594,32013.402344,28170.414063,28936.355469,28936.355469,70388855818\\n2022-05-12,28936.734375,30032.439453,26350.490234,29047.751953,29047.751953,66989173272\\n2022-05-13,29030.910156,30924.802734,28782.330078,29283.103516,29283.103516,42841124537\\n2022-05-14,29285.642578,30192.802734,28702.910156,30101.265625,30101.265625,28579868620\\n2022-05-15,30098.585938,31308.191406,29527.740234,31305.113281,31305.113281,25835372065\\n2022-05-16,31304.375000,31305.341797,29251.884766,29862.917969,29862.917969,32613897286\\n2022-05-17,29862.408203,30694.490234,29570.302734,30425.857422,30425.857422,29101473475\\n2022-05-18,30424.478516,30618.716797,28720.271484,28720.271484,28720.271484,31285268319\\n2022-05-19,28720.359375,30430.751953,28708.955078,30314.333984,30314.333984,33773447707\\n2022-05-20,30311.119141,30664.976563,28793.605469,29200.740234,29200.740234,30749382605\\n2022-05-21,29199.859375,29588.869141,29027.394531,29432.226563,29432.226563,17274840442\\n2022-05-22,29432.472656,30425.861328,29275.183594,30323.722656,30323.722656,21631532270\\n2022-05-23,30309.396484,30590.585938,28975.560547,29098.910156,29098.910156,31483454557\\n2022-05-24,29101.125000,29774.355469,28786.589844,29655.585938,29655.585938,26616506245\\n2022-05-25,29653.134766,30157.785156,29384.949219,29562.361328,29562.361328,27525063551\\n2022-05-26,29564.777344,29834.160156,28261.906250,29267.224609,29267.224609,36774325352\\n2022-05-27,29251.140625,29346.943359,28326.613281,28627.574219,28627.574219,36582005748\\n2022-05-28,28622.625000,28814.900391,28554.566406,28814.900391,28814.900391,35519577634\\n2022-05-29,29019.867188,29498.009766,28841.107422,29445.957031,29445.957031,18093886409\\n2022-05-30,29443.365234,31949.630859,29303.572266,31726.390625,31726.390625,39277993274\\n2022-05-31,31723.865234,32249.863281,31286.154297,31792.310547,31792.310547,33538210634\\n2022-06-01,31792.554688,31957.285156,29501.587891,29799.080078,29799.080078,41135817341\\n2022-06-02,29794.890625,30604.734375,29652.705078,30467.488281,30467.488281,29083562061\\n2022-06-03,30467.806641,30633.035156,29375.689453,29704.390625,29704.390625,26175547452\\n2022-06-04,29706.138672,29930.564453,29500.005859,29832.914063,29832.914063,16588370958\\n2022-06-05,29835.117188,30117.744141,29574.449219,29906.662109,29906.662109,17264085441\\n2022-06-06,29910.283203,31693.291016,29894.187500,31370.671875,31370.671875,31947336829\\n2022-06-07,31371.742188,31489.683594,29311.683594,31155.478516,31155.478516,40770974039\\n2022-06-08,31151.480469,31253.691406,29944.404297,30214.355469,30214.355469,30242059107\\n2022-06-09,30215.279297,30609.310547,30020.265625,30111.998047,30111.998047,21692004719\\n2022-06-10,30110.330078,30245.808594,28978.146484,29083.804688,29083.804688,29867476527\\n2022-06-11,29084.666016,29401.916016,28236.212891,28360.810547,28360.810547,27246574439\\n2022-06-12,28373.513672,28502.685547,26762.648438,26762.648438,26762.648438,34163220274\\n2022-06-13,26737.578125,26795.589844,22141.257813,22487.388672,22487.388672,68204556440\\n2022-06-14,22487.986328,23018.951172,20950.818359,22206.792969,22206.792969,50913575242\\n2022-06-15,22196.730469,22642.671875,20178.376953,22572.839844,22572.839844,54912007015\\n2022-06-16,22576.304688,22868.921875,20265.226563,20381.650391,20381.650391,31183975654\\n2022-06-17,20385.718750,21243.312500,20326.519531,20471.482422,20471.482422,27132421514\\n2022-06-18,20473.425781,20736.041016,17708.623047,19017.642578,19017.642578,42009436760\\n2022-06-19,19010.902344,20683.822266,18067.152344,20553.271484,20553.271484,35329942625\\n2022-06-20,20553.371094,20913.322266,19689.169922,20599.537109,20599.537109,30818458597\\n2022-06-21,20594.294922,21620.628906,20415.062500,20710.597656,20710.597656,28970212744\\n2022-06-22,20719.414063,20835.750000,19848.078125,19987.029297,19987.029297,28574793478\\n2022-06-23,19986.607422,21135.761719,19950.117188,21085.876953,21085.876953,26188097173\\n2022-06-24,21084.648438,21472.917969,20777.511719,21231.656250,21231.656250,24957784918\\n2022-06-25,21233.609375,21520.914063,20964.585938,21502.337891,21502.337891,18372538715\\n2022-06-26,21496.494141,21783.724609,21016.269531,21027.294922,21027.294922,18027170497\\n2022-06-27,21028.238281,21478.089844,20620.199219,20735.478516,20735.478516,20965695707\\n2022-06-28,20731.544922,21164.423828,20228.812500,20280.634766,20280.634766,21381535161\\n2022-06-29,20281.169922,20364.156250,19937.791016,20104.023438,20104.023438,23552740328\\n2022-06-30,20108.312500,20141.160156,18729.656250,19784.726563,19784.726563,26267239923\\n2022-07-01,19820.470703,20632.671875,19073.708984,19269.367188,19269.367188,30767551159\\n2022-07-02,19274.835938,19371.748047,19027.082031,19242.255859,19242.255859,18100418740\\n2022-07-03,19242.095703,19558.269531,18966.951172,19297.076172,19297.076172,16390821947\\n2022-07-04,19297.314453,20258.748047,19063.066406,20231.261719,20231.261719,21594638208\\n2022-07-05,20225.353516,20635.466797,19341.232422,20190.115234,20190.115234,26715546990\\n2022-07-06,20194.619141,20595.529297,19823.511719,20548.246094,20548.246094,24598943708\\n2022-07-07,20547.814453,21771.816406,20296.103516,21637.587891,21637.587891,25814972520\\n2022-07-08,21637.154297,22314.941406,21257.453125,21731.117188,21731.117188,49899834488\\n2022-07-09,21716.828125,21877.138672,21445.957031,21592.207031,21592.207031,29641127858\\n2022-07-10,21591.080078,21591.080078,20727.123047,20860.449219,20860.449219,28688807249\\n2022-07-11,20856.353516,20856.353516,19924.539063,19970.556641,19970.556641,24150249025\\n2022-07-12,19970.474609,20043.445313,19308.531250,19323.914063,19323.914063,25810220018\\n2022-07-13,19325.972656,20223.052734,18999.953125,20212.074219,20212.074219,33042430345\\n2022-07-14,20211.466797,20789.894531,19689.257813,20569.919922,20569.919922,31158743333\\n2022-07-15,20573.156250,21138.244141,20397.000000,20836.328125,20836.328125,25905575359\\n2022-07-16,20834.103516,21514.404297,20518.898438,21190.316406,21190.316406,24302954056\\n2022-07-17,21195.041016,21600.640625,20778.179688,20779.343750,20779.343750,22927802083\\n2022-07-18,20781.912109,22633.033203,20781.912109,22485.689453,22485.689453,39974475562\\n2022-07-19,22467.849609,23666.962891,21683.406250,23389.433594,23389.433594,48765202697\\n2022-07-20,23393.191406,24196.818359,23009.949219,23231.732422,23231.732422,42932549127\\n2022-07-21,23233.201172,23388.322266,22431.148438,23164.628906,23164.628906,33631012204\\n2022-07-22,23163.751953,23671.927734,22603.416016,22714.978516,22714.978516,31421555646\\n2022-07-23,22706.984375,22977.210938,22002.910156,22465.478516,22465.478516,24021799169\\n2022-07-24,22465.509766,22974.001953,22306.839844,22609.164063,22609.164063,23565495303\\n2022-07-25,22607.156250,22649.121094,21361.642578,21361.701172,21361.701172,35574561406\\n2022-07-26,21361.121094,21361.121094,20776.816406,21239.753906,21239.753906,28624673855\\n2022-07-27,21244.169922,22986.529297,21070.806641,22930.548828,22930.548828,31758955233\\n2022-07-28,22933.640625,24110.470703,22722.265625,23843.886719,23843.886719,40212386158\\n2022-07-29,23845.212891,24294.787109,23481.173828,23804.632813,23804.632813,35887249746\\n2022-07-30,23796.818359,24572.580078,23580.507813,23656.207031,23656.207031,28148218301\\n2022-07-31,23652.070313,24121.642578,23275.703125,23336.896484,23336.896484,23553591896\\n2022-08-01,23336.718750,23464.787109,22890.796875,23314.199219,23314.199219,25849159141\\n2022-08-02,23308.433594,23415.041016,22710.083984,22978.117188,22978.117188,28389250717\\n2022-08-03,22981.302734,23578.650391,22747.835938,22846.507813,22846.507813,26288169966\\n2022-08-04,22848.214844,23198.009766,22485.701172,22630.957031,22630.957031,25120229769\\n2022-08-05,22626.833984,23422.828125,22612.177734,23289.314453,23289.314453,28881249043\\n2022-08-06,23291.423828,23326.562500,22961.279297,22961.279297,22961.279297,15978259885\\n2022-08-07,22963.505859,23359.009766,22894.556641,23175.890625,23175.890625,15886817043\\n2022-08-08,23179.527344,24203.689453,23176.546875,23809.486328,23809.486328,28575544847\\n2022-08-09,23811.484375,23898.615234,22982.000000,23164.318359,23164.318359,23555719219\\n2022-08-10,23162.898438,24127.414063,22771.519531,23947.642578,23947.642578,32837431722\\n2022-08-11,23948.345703,24822.628906,23900.996094,23957.529297,23957.529297,37127036580\\n2022-08-12,23957.203125,24412.566406,23657.265625,24402.818359,24402.818359,27265804688\\n2022-08-13,24402.187500,24860.050781,24346.115234,24424.068359,24424.068359,22987346289\\n2022-08-14,24429.056641,24974.914063,24206.259766,24319.333984,24319.333984,22994133555\\n2022-08-15,24318.316406,25135.589844,23839.775391,24136.972656,24136.972656,35123501685\\n2022-08-16,24126.136719,24228.416016,23733.500000,23883.291016,23883.291016,27753685646\\n2022-08-17,23881.316406,24407.058594,23243.353516,23335.998047,23335.998047,30931623076\\n2022-08-18,23341.039063,23563.832031,23177.601563,23212.738281,23212.738281,23747613147\\n2022-08-19,23213.312500,23213.312500,20868.847656,20877.552734,20877.552734,40509610260\\n2022-08-20,20872.841797,21350.806641,20856.730469,21166.060547,21166.060547,27595671000\\n2022-08-21,21160.392578,21668.845703,21103.197266,21534.121094,21534.121094,23102307723\\n2022-08-22,21531.462891,21531.462891,20939.183594,21398.908203,21398.908203,31666498758\\n2022-08-23,21401.044922,21646.203125,20955.138672,21528.087891,21528.087891,31878280659\\n2022-08-24,21526.455078,21783.076172,21195.005859,21395.019531,21395.019531,31962253368\\n2022-08-25,21395.458984,21789.636719,21362.441406,21600.904297,21600.904297,31028679593\\n2022-08-26,21596.085938,21804.908203,20199.482422,20260.019531,20260.019531,42326789564\\n2022-08-27,20262.480469,20340.775391,19890.523438,20041.738281,20041.738281,30116729776\\n2022-08-28,20041.035156,20139.054688,19616.814453,19616.814453,19616.814453,24366810591\\n2022-08-29,19615.154297,20357.462891,19600.785156,20297.994141,20297.994141,32637854078\\n2022-08-30,20298.611328,20542.644531,19617.640625,19796.808594,19796.808594,34483360283\\n2022-08-31,19799.582031,20420.990234,19799.582031,20049.763672,20049.763672,33225232872\\n2022-09-01,20050.498047,20198.390625,19653.968750,20127.140625,20127.140625,30182031010\\n2022-09-02,20126.072266,20401.568359,19814.765625,19969.771484,19969.771484,29123998928\\n2022-09-03,19969.718750,20037.009766,19698.355469,19832.087891,19832.087891,23613051457\\n2022-09-04,19832.470703,19999.689453,19636.816406,19986.712891,19986.712891,25245861652\\n2022-09-05,19988.789063,20031.160156,19673.046875,19812.371094,19812.371094,28813460025\\n2022-09-06,19817.724609,20155.269531,18800.171875,18837.667969,18837.667969,43403978910\\n2022-09-07,18837.683594,19427.171875,18644.466797,19290.324219,19290.324219,35239757134\\n2022-09-08,19289.941406,19417.351563,19076.714844,19329.833984,19329.833984,32194477850\\n2022-09-09,19328.140625,21439.410156,19310.962891,21381.152344,21381.152344,48469528171\\n2022-09-10,21376.912109,21760.275391,21168.722656,21680.539063,21680.539063,36913738894\\n2022-09-11,21678.542969,21770.552734,21406.945313,21769.255859,21769.255859,34493951963\\n2022-09-12,21770.148438,22439.181641,21603.896484,22370.449219,22370.449219,50212088965\\n2022-09-13,22371.480469,22673.820313,20062.669922,20296.707031,20296.707031,51091116622\\n2022-09-14,20184.554688,20467.201172,19793.396484,20241.089844,20241.089844,37872380889\\n2022-09-15,20242.289063,20318.166016,19636.734375,19701.210938,19701.210938,36389011503\\n2022-09-16,19704.005859,19870.628906,19400.076172,19772.583984,19772.583984,30123362273\\n2022-09-17,19777.033203,20162.531250,19777.033203,20127.576172,20127.576172,24957448100\\n2022-09-18,20127.234375,20127.234375,19387.492188,19419.505859,19419.505859,31254779144\\n2022-09-19,19418.572266,19639.480469,18390.318359,19544.128906,19544.128906,40177002624\\n2022-09-20,19545.591797,19602.457031,18813.455078,18890.789063,18890.789063,36791346508\\n2022-09-21,18891.283203,19674.630859,18290.314453,18547.400391,18547.400391,46363793975\\n2022-09-22,18534.650391,19456.910156,18415.591797,19413.550781,19413.550781,41135767926\\n2022-09-23,19412.400391,19464.671875,18617.552734,19297.638672,19297.638672,38896078052\\n2022-09-24,19296.990234,19310.197266,18861.974609,18937.011719,18937.011719,26149643168\\n2022-09-25,18936.310547,19134.732422,18696.468750,18802.097656,18802.097656,23359966112\\n2022-09-26,18803.900391,19274.873047,18721.285156,19222.671875,19222.671875,44148798321\\n2022-09-27,19221.839844,20338.455078,18915.667969,19110.546875,19110.546875,58571439619\\n2022-09-28,19104.621094,19688.343750,18553.296875,19426.720703,19426.720703,53071298734\\n2022-09-29,19427.779297,19589.265625,18924.353516,19573.050781,19573.050781,41037843771\\n2022-09-30,19573.431641,20109.849609,19265.662109,19431.789063,19431.789063,43975248085\\n2022-10-01,19431.105469,19471.154297,19231.082031,19312.095703,19312.095703,18719537670\\n2022-10-02,19311.849609,19370.308594,18970.621094,19044.107422,19044.107422,20765955327\\n2022-10-03,19044.068359,19653.542969,19025.226563,19623.580078,19623.580078,30484729489\\n2022-10-04,19623.583984,20380.343750,19523.839844,20336.843750,20336.843750,35887278685\\n2022-10-05,20335.900391,20343.748047,19801.800781,20160.716797,20160.716797,33223790572\\n2022-10-06,20161.039063,20408.392578,19900.087891,19955.443359,19955.443359,34711412966\\n2022-10-07,19957.558594,20041.085938,19395.792969,19546.849609,19546.849609,29227315390\\n2022-10-08,19546.328125,19601.695313,19299.414063,19416.568359,19416.568359,16437423167\\n2022-10-09,19417.478516,19542.539063,19349.259766,19446.425781,19446.425781,16837262532\\n2022-10-10,19446.416016,19515.466797,19102.978516,19141.484375,19141.484375,27425022774\\n2022-10-11,19139.000000,19241.960938,18925.603516,19051.417969,19051.417969,28711532910\\n2022-10-12,19052.646484,19203.199219,19029.757813,19157.445313,19157.445313,24950173846\\n2022-10-13,19156.966797,19453.328125,18319.822266,19382.904297,19382.904297,44219840004\\n2022-10-14,19382.533203,19889.146484,19115.408203,19185.656250,19185.656250,38452356727\\n2022-10-15,19185.437500,19212.541016,19019.250000,19067.634766,19067.634766,16192235532\\n2022-10-16,19068.914063,19389.603516,19068.914063,19268.093750,19268.093750,17988916650\\n2022-10-17,19268.562500,19635.802734,19173.333984,19550.757813,19550.757813,27472552998\\n2022-10-18,19550.466797,19666.994141,19144.769531,19334.416016,19334.416016,30580012344\\n2022-10-19,19335.027344,19348.416016,19127.687500,19139.535156,19139.535156,22425387184\\n2022-10-20,19138.085938,19315.199219,18971.458984,19053.740234,19053.740234,24493974420\\n2022-10-21,19053.203125,19237.384766,18770.970703,19172.468750,19172.468750,32459287866\\n2022-10-22,19172.380859,19248.068359,19132.244141,19208.189453,19208.189453,16104440957\\n2022-10-23,19207.734375,19646.652344,19124.197266,19567.007813,19567.007813,22128794335\\n2022-10-24,19567.769531,19589.125000,19206.324219,19345.572266,19345.572266,30202235805\\n2022-10-25,19344.964844,20348.412109,19261.447266,20095.857422,20095.857422,47761524910\\n2022-10-26,20092.236328,20938.134766,20076.117188,20770.441406,20770.441406,58895950537\\n2022-10-27,20772.802734,20854.044922,20255.373047,20285.835938,20285.835938,49625110402\\n2022-10-28,20287.957031,20724.980469,20086.068359,20595.351563,20595.351563,43994715910\\n2022-10-29,20595.103516,20988.394531,20566.484375,20818.476563,20818.476563,40369840645\\n2022-10-30,20817.982422,20917.005859,20547.462891,20635.603516,20635.603516,31486345556\\n2022-10-31,20633.695313,20795.320313,20287.458984,20495.773438,20495.773438,45668466815\\n2022-11-01,20494.898438,20647.289063,20359.845703,20485.273438,20485.273438,39819303159\\n2022-11-02,20482.958984,20742.810547,20087.134766,20159.503906,20159.503906,55552169483\\n2022-11-03,20162.689453,20382.095703,20086.240234,20209.988281,20209.988281,43228750179\\n2022-11-04,20208.769531,21209.560547,20188.019531,21147.230469,21147.230469,64072727950\\n2022-11-05,21144.832031,21446.886719,21097.634766,21282.691406,21282.691406,37846047609\\n2022-11-06,21285.056641,21345.376953,20920.191406,20926.486328,20926.486328,35082693210\\n2022-11-07,20924.621094,21053.246094,20489.972656,20602.816406,20602.816406,53510852236\\n2022-11-08,20600.671875,20664.607422,17603.544922,18541.271484,18541.271484,118992465607\\n2022-11-09,18543.761719,18590.458984,15682.692383,15880.780273,15880.780273,102905151606\\n2022-11-10,15883.158203,18054.312500,15834.018555,17586.771484,17586.771484,83202283721\\n2022-11-11,17583.251953,17650.943359,16543.482422,17034.292969,17034.292969,55871616488\\n2022-11-12,17036.875000,17066.675781,16651.775391,16799.185547,16799.185547,29717699419\\n2022-11-13,16799.722656,16920.765625,16320.634766,16353.365234,16353.365234,27209183682\\n2022-11-14,16352.028320,17109.324219,15872.941406,16618.199219,16618.199219,49630243054\\n2022-11-15,16617.484375,17051.962891,16542.550781,16884.613281,16884.613281,36599436183\\n2022-11-16,16884.341797,16960.294922,16430.111328,16669.439453,16669.439453,33925512989\\n2022-11-17,16670.425781,16726.439453,16460.683594,16687.517578,16687.517578,27868914022\\n2022-11-18,16687.912109,16947.058594,16564.611328,16697.777344,16697.777344,26862218609\\n2022-11-19,16696.220703,16797.876953,16570.410156,16711.546875,16711.546875,16106223492\\n2022-11-20,16712.919922,16746.779297,16248.692383,16291.832031,16291.832031,21313378652\\n2022-11-21,16291.223633,16291.223633,15599.046875,15787.284180,15787.284180,37429485518\\n2022-11-22,15782.300781,16253.047852,15656.606445,16189.769531,16189.769531,30726828760\\n2022-11-23,16195.588867,16638.193359,16170.502930,16610.707031,16610.707031,32958875628\\n2022-11-24,16611.636719,16771.474609,16501.767578,16604.464844,16604.464844,26129037414\\n2022-11-25,16602.269531,16603.316406,16388.404297,16521.841797,16521.841797,18678255976\\n2022-11-26,16521.576172,16666.863281,16416.228516,16464.281250,16464.281250,18000008764\\n2022-11-27,16463.882813,16594.406250,16437.025391,16444.626953,16444.626953,20443898509\\n2022-11-28,16440.222656,16482.933594,16054.530273,16217.322266,16217.322266,27743025156\\n2022-11-29,16217.639648,16522.257813,16139.396484,16444.982422,16444.982422,23581685468\\n2022-11-30,16445.476563,17190.937500,16445.476563,17168.566406,17168.566406,29523576583\\n2022-12-01,17168.001953,17197.498047,16888.388672,16967.132813,16967.132813,22895392882\\n2022-12-02,16968.683594,17088.660156,16877.880859,17088.660156,17088.660156,19539705127\\n2022-12-03,17090.097656,17116.041016,16888.140625,16908.236328,16908.236328,16217776704\\n2022-12-04,16908.169922,17157.767578,16903.439453,17130.486328,17130.486328,16824520830\\n2022-12-05,17128.894531,17378.152344,16922.431641,16974.826172,16974.826172,22209086834\\n2022-12-06,16975.238281,17091.863281,16939.921875,17089.503906,17089.503906,19889922369\\n2022-12-07,17089.505859,17109.376953,16750.558594,16848.126953,16848.126953,19675404389\\n2022-12-08,16847.349609,17267.916016,16788.783203,17233.474609,17233.474609,20496603770\\n2022-12-09,17232.148438,17280.546875,17100.835938,17133.152344,17133.152344,20328426366\\n2022-12-10,17134.220703,17216.826172,17120.683594,17128.724609,17128.724609,12706781969\\n2022-12-11,17129.710938,17245.634766,17091.820313,17104.193359,17104.193359,14122486832\\n2022-12-12,17102.500000,17212.564453,16899.394531,17206.437500,17206.437500,19617581341\\n2022-12-13,17206.441406,17930.085938,17111.763672,17781.318359,17781.318359,26634741631\\n2022-12-14,17782.066406,18318.531250,17739.513672,17815.650391,17815.650391,25534481470\\n2022-12-15,17813.644531,17846.744141,17322.589844,17364.865234,17364.865234,20964448341\\n2022-12-16,17364.546875,17505.525391,16584.701172,16647.484375,16647.484375,24031608960\\n2022-12-17,16646.982422,16800.589844,16614.029297,16795.091797,16795.091797,14463581825\\n2022-12-18,16795.609375,16815.386719,16697.820313,16757.976563,16757.976563,10924354698\\n2022-12-19,16759.041016,16807.527344,16398.136719,16439.679688,16439.679688,17221074814\\n2022-12-20,16441.787109,17012.984375,16427.867188,16906.304688,16906.304688,22722096615\\n2022-12-21,16904.527344,16916.800781,16755.912109,16817.535156,16817.535156,14882945045\\n2022-12-22,16818.380859,16866.673828,16592.408203,16830.341797,16830.341797,16441573050\\n2022-12-23,16829.644531,16905.218750,16794.458984,16796.953125,16796.953125,15329265213\\n2022-12-24,16796.976563,16864.703125,16793.527344,16847.755859,16847.755859,9744636213\\n2022-12-25,16847.505859,16860.554688,16755.253906,16841.986328,16841.986328,11656379938\\n2022-12-26,16842.250000,16920.123047,16812.369141,16919.804688,16919.804688,11886957804\\n2022-12-27,16919.291016,16959.845703,16642.072266,16717.173828,16717.173828,15748580239\\n2022-12-28,16716.400391,16768.169922,16497.556641,16552.572266,16552.572266,17005713920\\n2022-12-29,16552.322266,16651.755859,16508.683594,16642.341797,16642.341797,14472237479\\n2022-12-30,16641.330078,16643.427734,16408.474609,16602.585938,16602.585938,15929162910\\n2022-12-31,16603.673828,16628.986328,16517.519531,16547.496094,16547.496094,11239186456\\n2023-01-01,16547.914063,16630.439453,16521.234375,16625.080078,16625.080078,9244361700\\n2023-01-02,16625.509766,16759.343750,16572.228516,16688.470703,16688.470703,12097775227\\n2023-01-03,16688.847656,16760.447266,16622.371094,16679.857422,16679.857422,13903079207\\n2023-01-04,16680.205078,16964.585938,16667.763672,16863.238281,16863.238281,18421743322\\n2023-01-05,16863.472656,16884.021484,16790.283203,16836.736328,16836.736328,13692758566\\n2023-01-06,16836.472656,16991.994141,16716.421875,16951.968750,16951.968750,14413662913\\n2023-01-07,16952.117188,16975.017578,16914.191406,16955.078125,16955.078125,7714767174\\n2023-01-08,16954.146484,17091.144531,16924.050781,17091.144531,17091.144531,9768827914\\n2023-01-09,17093.992188,17389.957031,17093.992188,17196.554688,17196.554688,18624736866\\n2023-01-10,17192.949219,17484.720703,17162.990234,17446.292969,17446.292969,15808338949\\n2023-01-11,17446.359375,17934.896484,17337.994141,17934.896484,17934.896484,18372283782\\n2023-01-12,18117.593750,19030.087891,17995.203125,18869.587891,18869.587891,34971338710\\n2023-01-13,18868.906250,19964.322266,18753.164063,19909.574219,19909.574219,29225029694\\n2023-01-14,19910.537109,21075.142578,19907.828125,20976.298828,20976.298828,38967784639\\n2023-01-15,20977.484375,20993.748047,20606.986328,20880.798828,20880.798828,19298407543\\n2023-01-16,20882.224609,21360.875000,20715.746094,21169.632813,21169.632813,26792494050\\n2023-01-17,21175.833984,21438.660156,20978.533203,21161.519531,21161.519531,24999983362\\n2023-01-18,21161.050781,21564.501953,20541.544922,20688.781250,20688.781250,30005625418\\n2023-01-19,20686.746094,21163.011719,20685.380859,21086.792969,21086.792969,21152848261\\n2023-01-20,21085.373047,22692.357422,20919.126953,22676.552734,22676.552734,28799154319\\n2023-01-21,22677.427734,23282.347656,22511.833984,22777.625000,22777.625000,32442278429\\n2023-01-22,22777.986328,23056.730469,22387.900391,22720.416016,22720.416016,24746386230\\n2023-01-23,22721.087891,23126.486328,22654.304688,22934.431641,22934.431641,26518700512\\n2023-01-24,22929.626953,23134.011719,22549.744141,22636.468750,22636.468750,26405069715\\n2023-01-25,22639.267578,23722.099609,22406.076172,23117.859375,23117.859375,30685366709\\n2023-01-26,23108.955078,23237.078125,22911.373047,23032.777344,23032.777344,26357839322\\n2023-01-27,23030.716797,23417.720703,22654.593750,23078.728516,23078.728516,25383335641\\n2023-01-28,23079.964844,23165.896484,22908.845703,23031.089844,23031.089844,14712928379\\n2023-01-29,23031.449219,23919.890625,22985.070313,23774.566406,23774.566406,27423687259\\n2023-01-30,23774.648438,23789.347656,22657.582031,22840.138672,22840.138672,27205595568\\n2023-01-31,22840.796875,23225.021484,22765.568359,23139.283203,23139.283203,22837828665\\n2023-02-01,23137.835938,23764.539063,22877.750000,23723.769531,23723.769531,26683255504\\n2023-02-02,23720.824219,24167.210938,23468.595703,23471.871094,23471.871094,32066936882\\n2023-02-03,23469.412109,23678.103516,23279.955078,23449.322266,23449.322266,27083066007\\n2023-02-04,23446.320313,23556.949219,23291.794922,23331.847656,23331.847656,15639298538\\n2023-02-05,23332.248047,23423.435547,22841.759766,22955.666016,22955.666016,19564262605\\n2023-02-06,22954.021484,23119.279297,22692.025391,22760.109375,22760.109375,23825006542\\n2023-02-07,22757.267578,23310.974609,22756.257813,23264.291016,23264.291016,27187964471\\n2023-02-08,23263.416016,23367.958984,22731.097656,22939.398438,22939.398438,25371367758\\n2023-02-09,22946.566406,22996.437500,21773.974609,21819.039063,21819.039063,32572572185\\n2023-02-10,21819.005859,21941.185547,21539.392578,21651.183594,21651.183594,27078406594\\n2023-02-11,21651.841797,21891.410156,21618.449219,21870.875000,21870.875000,16356226232\\n2023-02-12,21870.902344,22060.994141,21682.828125,21788.203125,21788.203125,17821046406\\n2023-02-13,21787.000000,21898.414063,21460.087891,21808.101563,21808.101563,23918742607\\n2023-02-14,21801.822266,22293.140625,21632.394531,22220.804688,22220.804688,26792596581\\n2023-02-15,22220.585938,24307.841797,22082.769531,24307.841797,24307.841797,32483312909\\n2023-02-16,24307.349609,25134.117188,23602.523438,23623.474609,23623.474609,39316664596\\n2023-02-17,23621.283203,24924.041016,23460.755859,24565.601563,24565.601563,41358451255\\n2023-02-18,24565.296875,24798.835938,24468.373047,24641.277344,24641.277344,19625427158\\n2023-02-19,24640.027344,25093.054688,24327.642578,24327.642578,24327.642578,25555105670\\n2023-02-20,24336.623047,25020.458984,23927.910156,24829.148438,24829.148438,28987376573\\n2023-02-21,24833.048828,25126.851563,24200.363281,24436.353516,24436.353516,31252098714\\n2023-02-22,24437.417969,24472.339844,23644.318359,24188.843750,24188.843750,30199996781\\n2023-02-23,24190.718750,24572.089844,23693.919922,23947.492188,23947.492188,30476264066\\n2023-02-24,23946.007813,24103.705078,23007.072266,23198.126953,23198.126953,26811744928\\n2023-02-25,23200.125000,23210.210938,22861.558594,23175.375000,23175.375000,16100721565\\n2023-02-26,23174.150391,23654.367188,23084.220703,23561.212891,23561.212891,16644534842\\n2023-02-27,23561.451172,23857.890625,23205.878906,23522.871094,23522.871094,22660763494\\n2023-02-28,23521.837891,23585.384766,23077.650391,23147.353516,23147.353516,20535363434\\n2023-03-01,23150.929688,23880.632813,23088.626953,23646.550781,23646.550781,24662841200\\n2023-03-02,23647.019531,23739.138672,23245.021484,23475.466797,23475.466797,20386398516\\n2023-03-03,23476.632813,23479.347656,22213.238281,22362.679688,22362.679688,26062404610\\n2023-03-04,22362.923828,22405.177734,22198.980469,22353.349609,22353.349609,11166012913\\n2023-03-05,22354.144531,22613.685547,22307.142578,22435.513672,22435.513672,13317001733\\n2023-03-06,22436.816406,22584.292969,22331.314453,22429.757813,22429.757813,17353192895\\n2023-03-07,22432.744141,22522.318359,22080.279297,22254.009766,22254.009766,21080924160'}"
            ]
          },
          "metadata": {},
          "execution_count": 30
        }
      ]
    },
    {
      "cell_type": "code",
      "source": [
        "df=pd.read_csv('BTC-USD (4).csv')"
      ],
      "metadata": {
        "id": "UWsx0D1bZWwb"
      },
      "execution_count": 31,
      "outputs": []
    },
    {
      "cell_type": "code",
      "source": [
        "df.info()"
      ],
      "metadata": {
        "colab": {
          "base_uri": "https://localhost:8080/"
        },
        "id": "zXQwKoagZgKY",
        "outputId": "723e7c66-3d7c-449a-c631-45cb918a1aa9"
      },
      "execution_count": 32,
      "outputs": [
        {
          "output_type": "stream",
          "name": "stdout",
          "text": [
            "<class 'pandas.core.frame.DataFrame'>\n",
            "RangeIndex: 366 entries, 0 to 365\n",
            "Data columns (total 7 columns):\n",
            " #   Column     Non-Null Count  Dtype  \n",
            "---  ------     --------------  -----  \n",
            " 0   Date       366 non-null    object \n",
            " 1   Open       366 non-null    float64\n",
            " 2   High       366 non-null    float64\n",
            " 3   Low        366 non-null    float64\n",
            " 4   Close      366 non-null    float64\n",
            " 5   Adj Close  366 non-null    float64\n",
            " 6   Volume     366 non-null    int64  \n",
            "dtypes: float64(5), int64(1), object(1)\n",
            "memory usage: 20.1+ KB\n"
          ]
        }
      ]
    },
    {
      "cell_type": "code",
      "source": [
        "df.Date=pd.to_datetime(df.Date)"
      ],
      "metadata": {
        "id": "lKXY9aIeZhk3"
      },
      "execution_count": 33,
      "outputs": []
    },
    {
      "cell_type": "code",
      "source": [
        "df.info()"
      ],
      "metadata": {
        "colab": {
          "base_uri": "https://localhost:8080/"
        },
        "id": "gGq9I8ZPZtiB",
        "outputId": "20651d29-20cf-42ae-db1d-f8ac5c3ab9e3"
      },
      "execution_count": 34,
      "outputs": [
        {
          "output_type": "stream",
          "name": "stdout",
          "text": [
            "<class 'pandas.core.frame.DataFrame'>\n",
            "RangeIndex: 366 entries, 0 to 365\n",
            "Data columns (total 7 columns):\n",
            " #   Column     Non-Null Count  Dtype         \n",
            "---  ------     --------------  -----         \n",
            " 0   Date       366 non-null    datetime64[ns]\n",
            " 1   Open       366 non-null    float64       \n",
            " 2   High       366 non-null    float64       \n",
            " 3   Low        366 non-null    float64       \n",
            " 4   Close      366 non-null    float64       \n",
            " 5   Adj Close  366 non-null    float64       \n",
            " 6   Volume     366 non-null    int64         \n",
            "dtypes: datetime64[ns](1), float64(5), int64(1)\n",
            "memory usage: 20.1 KB\n"
          ]
        }
      ]
    },
    {
      "cell_type": "code",
      "source": [
        "df.set_index('Date', inplace=True)"
      ],
      "metadata": {
        "id": "69k5QsBsZ4Du"
      },
      "execution_count": 39,
      "outputs": []
    },
    {
      "cell_type": "code",
      "source": [
        "df.High.plot(title=\"Timeline of Bitcoin High Price\")"
      ],
      "metadata": {
        "colab": {
          "base_uri": "https://localhost:8080/",
          "height": 324
        },
        "id": "UK1YpQQQaFqZ",
        "outputId": "21f39724-637d-4af2-e285-65ca3abb983f"
      },
      "execution_count": 40,
      "outputs": [
        {
          "output_type": "execute_result",
          "data": {
            "text/plain": [
              "<AxesSubplot:title={'center':'Timeline of Bitcoin High Price'}, xlabel='Date'>"
            ]
          },
          "metadata": {},
          "execution_count": 40
        },
        {
          "output_type": "display_data",
          "data": {
            "text/plain": [
              "<Figure size 432x288 with 1 Axes>"
            ],
            "image/png": "[encoded data removed]"
          },
          "metadata": {
            "needs_background": "light"
          }
        }
      ]
    },
    {
      "cell_type": "code",
      "source": [
        "df2=df['2022-4':'2022-7']"
      ],
      "metadata": {
        "id": "AYYDdjgoaau0"
      },
      "execution_count": 44,
      "outputs": []
    },
    {
      "cell_type": "code",
      "source": [
        "df2"
      ],
      "metadata": {
        "colab": {
          "base_uri": "https://localhost:8080/",
          "height": 455
        },
        "id": "qRH2PxEkcpwA",
        "outputId": "f63fcd87-775d-435f-8f92-1a7b1eb3c94b"
      },
      "execution_count": 45,
      "outputs": [
        {
          "output_type": "execute_result",
          "data": {
            "text/plain": [
              "                    Open          High           Low         Close  \\\n",
              "Date                                                                 \n",
              "2022-04-01  45554.164063  46616.242188  44403.140625  46281.644531   \n",
              "2022-04-02  46285.500000  47028.281250  45782.511719  45868.949219   \n",
              "2022-04-03  45859.128906  47313.476563  45634.105469  46453.566406   \n",
              "2022-04-04  46445.273438  46791.089844  45235.816406  46622.675781   \n",
              "2022-04-05  46624.507813  47106.140625  45544.808594  45555.992188   \n",
              "...                  ...           ...           ...           ...   \n",
              "2022-07-27  21244.169922  22986.529297  21070.806641  22930.548828   \n",
              "2022-07-28  22933.640625  24110.470703  22722.265625  23843.886719   \n",
              "2022-07-29  23845.212891  24294.787109  23481.173828  23804.632813   \n",
              "2022-07-30  23796.818359  24572.580078  23580.507813  23656.207031   \n",
              "2022-07-31  23652.070313  24121.642578  23275.703125  23336.896484   \n",
              "\n",
              "               Adj Close       Volume  \n",
              "Date                                   \n",
              "2022-04-01  46281.644531  38162644287  \n",
              "2022-04-02  45868.949219  29336594194  \n",
              "2022-04-03  46453.566406  25414397610  \n",
              "2022-04-04  46622.675781  32499785455  \n",
              "2022-04-05  45555.992188  29640604055  \n",
              "...                  ...          ...  \n",
              "2022-07-27  22930.548828  31758955233  \n",
              "2022-07-28  23843.886719  40212386158  \n",
              "2022-07-29  23804.632813  35887249746  \n",
              "2022-07-30  23656.207031  28148218301  \n",
              "2022-07-31  23336.896484  23553591896  \n",
              "\n",
              "[122 rows x 6 columns]"
            ],
            "text/html": [
              "\n",
              "  <div id=\"df-03945e6f-e116-4d34-9465-7a9681bdfee0\">\n",
              "    <div class=\"colab-df-container\">\n",
              "      <div>\n",
              "<style scoped>\n",
              "    .dataframe tbody tr th:only-of-type {\n",
              "        vertical-align: middle;\n",
              "    }\n",
              "\n",
              "    .dataframe tbody tr th {\n",
              "        vertical-align: top;\n",
              "    }\n",
              "\n",
              "    .dataframe thead th {\n",
              "        text-align: right;\n",
              "    }\n",
              "</style>\n",
              "<table border=\"1\" class=\"dataframe\">\n",
              "  <thead>\n",
              "    <tr style=\"text-align: right;\">\n",
              "      <th></th>\n",
              "      <th>Open</th>\n",
              "      <th>High</th>\n",
              "      <th>Low</th>\n",
              "      <th>Close</th>\n",
              "      <th>Adj Close</th>\n",
              "      <th>Volume</th>\n",
              "    </tr>\n",
              "    <tr>\n",
              "      <th>Date</th>\n",
              "      <th></th>\n",
              "      <th></th>\n",
              "      <th></th>\n",
              "      <th></th>\n",
              "      <th></th>\n",
              "      <th></th>\n",
              "    </tr>\n",
              "  </thead>\n",
              "  <tbody>\n",
              "    <tr>\n",
              "      <th>2022-04-01</th>\n",
              "      <td>45554.164063</td>\n",
              "      <td>46616.242188</td>\n",
              "      <td>44403.140625</td>\n",
              "      <td>46281.644531</td>\n",
              "      <td>46281.644531</td>\n",
              "      <td>38162644287</td>\n",
              "    </tr>\n",
              "    <tr>\n",
              "      <th>2022-04-02</th>\n",
              "      <td>46285.500000</td>\n",
              "      <td>47028.281250</td>\n",
              "      <td>45782.511719</td>\n",
              "      <td>45868.949219</td>\n",
              "      <td>45868.949219</td>\n",
              "      <td>29336594194</td>\n",
              "    </tr>\n",
              "    <tr>\n",
              "      <th>2022-04-03</th>\n",
              "      <td>45859.128906</td>\n",
              "      <td>47313.476563</td>\n",
              "      <td>45634.105469</td>\n",
              "      <td>46453.566406</td>\n",
              "      <td>46453.566406</td>\n",
              "      <td>25414397610</td>\n",
              "    </tr>\n",
              "    <tr>\n",
              "      <th>2022-04-04</th>\n",
              "      <td>46445.273438</td>\n",
              "      <td>46791.089844</td>\n",
              "      <td>45235.816406</td>\n",
              "      <td>46622.675781</td>\n",
              "      <td>46622.675781</td>\n",
              "      <td>32499785455</td>\n",
              "    </tr>\n",
              "    <tr>\n",
              "      <th>2022-04-05</th>\n",
              "      <td>46624.507813</td>\n",
              "      <td>47106.140625</td>\n",
              "      <td>45544.808594</td>\n",
              "      <td>45555.992188</td>\n",
              "      <td>45555.992188</td>\n",
              "      <td>29640604055</td>\n",
              "    </tr>\n",
              "    <tr>\n",
              "      <th>...</th>\n",
              "      <td>...</td>\n",
              "      <td>...</td>\n",
              "      <td>...</td>\n",
              "      <td>...</td>\n",
              "      <td>...</td>\n",
              "      <td>...</td>\n",
              "    </tr>\n",
              "    <tr>\n",
              "      <th>2022-07-27</th>\n",
              "      <td>21244.169922</td>\n",
              "      <td>22986.529297</td>\n",
              "      <td>21070.806641</td>\n",
              "      <td>22930.548828</td>\n",
              "      <td>22930.548828</td>\n",
              "      <td>31758955233</td>\n",
              "    </tr>\n",
              "    <tr>\n",
              "      <th>2022-07-28</th>\n",
              "      <td>22933.640625</td>\n",
              "      <td>24110.470703</td>\n",
              "      <td>22722.265625</td>\n",
              "      <td>23843.886719</td>\n",
              "      <td>23843.886719</td>\n",
              "      <td>40212386158</td>\n",
              "    </tr>\n",
              "    <tr>\n",
              "      <th>2022-07-29</th>\n",
              "      <td>23845.212891</td>\n",
              "      <td>24294.787109</td>\n",
              "      <td>23481.173828</td>\n",
              "      <td>23804.632813</td>\n",
              "      <td>23804.632813</td>\n",
              "      <td>35887249746</td>\n",
              "    </tr>\n",
              "    <tr>\n",
              "      <th>2022-07-30</th>\n",
              "      <td>23796.818359</td>\n",
              "      <td>24572.580078</td>\n",
              "      <td>23580.507813</td>\n",
              "      <td>23656.207031</td>\n",
              "      <td>23656.207031</td>\n",
              "      <td>28148218301</td>\n",
              "    </tr>\n",
              "    <tr>\n",
              "      <th>2022-07-31</th>\n",
              "      <td>23652.070313</td>\n",
              "      <td>24121.642578</td>\n",
              "      <td>23275.703125</td>\n",
              "      <td>23336.896484</td>\n",
              "      <td>23336.896484</td>\n",
              "      <td>23553591896</td>\n",
              "    </tr>\n",
              "  </tbody>\n",
              "</table>\n",
              "<p>122 rows × 6 columns</p>\n",
              "</div>\n",
              "      <button class=\"colab-df-convert\" onclick=\"convertToInteractive('df-03945e6f-e116-4d34-9465-7a9681bdfee0')\"\n",
              "              title=\"Convert this dataframe to an interactive table.\"\n",
              "              style=\"display:none;\">\n",
              "        \n",
              "  <svg xmlns=\"http://www.w3.org/2000/svg\" height=\"24px\"viewBox=\"0 0 24 24\"\n",
              "       width=\"24px\">\n",
              "    <path d=\"M0 0h24v24H0V0z\" fill=\"none\"/>\n",
              "    <path d=\"M18.56 5.44l.94 2.06.94-2.06 2.06-.94-2.06-.94-.94-2.06-.94 2.06-2.06.94zm-11 1L8.5 8.5l.94-2.06 2.06-.94-2.06-.94L8.5 2.5l-.94 2.06-2.06.94zm10 10l.94 2.06.94-2.06 2.06-.94-2.06-.94-.94-2.06-.94 2.06-2.06.94z\"/><path d=\"M17.41 7.96l-1.37-1.37c-.4-.4-.92-.59-1.43-.59-.52 0-1.04.2-1.43.59L10.3 9.45l-7.72 7.72c-.78.78-.78 2.05 0 2.83L4 21.41c.39.39.9.59 1.41.59.51 0 1.02-.2 1.41-.59l7.78-7.78 2.81-2.81c.8-.78.8-2.07 0-2.86zM5.41 20L4 18.59l7.72-7.72 1.47 1.35L5.41 20z\"/>\n",
              "  </svg>\n",
              "      </button>\n",
              "      \n",
              "  <style>\n",
              "    .colab-df-container {\n",
              "      display:flex;\n",
              "      flex-wrap:wrap;\n",
              "      gap: 12px;\n",
              "    }\n",
              "\n",
              "    .colab-df-convert {\n",
              "      background-color: #E8F0FE;\n",
              "      border: none;\n",
              "      border-radius: 50%;\n",
              "      cursor: pointer;\n",
              "      display: none;\n",
              "      fill: #1967D2;\n",
              "      height: 32px;\n",
              "      padding: 0 0 0 0;\n",
              "      width: 32px;\n",
              "    }\n",
              "\n",
              "    .colab-df-convert:hover {\n",
              "      background-color: #E2EBFA;\n",
              "      box-shadow: 0px 1px 2px rgba(60, 64, 67, 0.3), 0px 1px 3px 1px rgba(60, 64, 67, 0.15);\n",
              "      fill: #174EA6;\n",
              "    }\n",
              "\n",
              "    [theme=dark] .colab-df-convert {\n",
              "      background-color: #3B4455;\n",
              "      fill: #D2E3FC;\n",
              "    }\n",
              "\n",
              "    [theme=dark] .colab-df-convert:hover {\n",
              "      background-color: #434B5C;\n",
              "      box-shadow: 0px 1px 3px 1px rgba(0, 0, 0, 0.15);\n",
              "      filter: drop-shadow(0px 1px 2px rgba(0, 0, 0, 0.3));\n",
              "      fill: #FFFFFF;\n",
              "    }\n",
              "  </style>\n",
              "\n",
              "      <script>\n",
              "        const buttonEl =\n",
              "          document.querySelector('#df-03945e6f-e116-4d34-9465-7a9681bdfee0 button.colab-df-convert');\n",
              "        buttonEl.style.display =\n",
              "          google.colab.kernel.accessAllowed ? 'block' : 'none';\n",
              "\n",
              "        async function convertToInteractive(key) {\n",
              "          const element = document.querySelector('#df-03945e6f-e116-4d34-9465-7a9681bdfee0');\n",
              "          const dataTable =\n",
              "            await google.colab.kernel.invokeFunction('convertToInteractive',\n",
              "                                                     [key], {});\n",
              "          if (!dataTable) return;\n",
              "\n",
              "          const docLinkHtml = 'Like what you see? Visit the ' +\n",
              "            '<a target=\"_blank\" href=https://colab.research.google.com/notebooks/data_table.ipynb>data table notebook</a>'\n",
              "            + ' to learn more about interactive tables.';\n",
              "          element.innerHTML = '';\n",
              "          dataTable['output_type'] = 'display_data';\n",
              "          await google.colab.output.renderOutput(dataTable, element);\n",
              "          const docLink = document.createElement('div');\n",
              "          docLink.innerHTML = docLinkHtml;\n",
              "          element.appendChild(docLink);\n",
              "        }\n",
              "      </script>\n",
              "    </div>\n",
              "  </div>\n",
              "  "
            ]
          },
          "metadata": {},
          "execution_count": 45
        }
      ]
    },
    {
      "cell_type": "code",
      "source": [
        "#Find Info and Summarize the the date starting with '2022-4' and '2022-7'"
      ],
      "metadata": {
        "id": "Dx7mLvNTayJ2"
      },
      "execution_count": null,
      "outputs": []
    },
    {
      "cell_type": "code",
      "source": [
        "df.loc['2023-2-2', 'High']"
      ],
      "metadata": {
        "colab": {
          "base_uri": "https://localhost:8080/"
        },
        "id": "QH6sgJFAa9Fv",
        "outputId": "c662b6cd-4d28-4c9c-e53e-66bad080f30f"
      },
      "execution_count": 42,
      "outputs": [
        {
          "output_type": "execute_result",
          "data": {
            "text/plain": [
              "24167.210938"
            ]
          },
          "metadata": {},
          "execution_count": 42
        }
      ]
    },
    {
      "cell_type": "markdown",
      "source": [
        "For Selecting missing values as the buisness days that were no exchnage and trading happens."
      ],
      "metadata": {
        "id": "-tpcSqV0bXT6"
      }
    },
    {
      "cell_type": "code",
      "source": [
        "df[df.High.isnull()]"
      ],
      "metadata": {
        "colab": {
          "base_uri": "https://localhost:8080/",
          "height": 81
        },
        "id": "VNs0XpgmbEdb",
        "outputId": "0cd9282a-4ef8-4ac1-be98-1a53abff4efd"
      },
      "execution_count": 43,
      "outputs": [
        {
          "output_type": "execute_result",
          "data": {
            "text/plain": [
              "Empty DataFrame\n",
              "Columns: [Open, High, Low, Close, Adj Close, Volume]\n",
              "Index: []"
            ],
            "text/html": [
              "\n",
              "  <div id=\"df-1f296811-db7d-4545-966f-b86dcc15fa8f\">\n",
              "    <div class=\"colab-df-container\">\n",
              "      <div>\n",
              "<style scoped>\n",
              "    .dataframe tbody tr th:only-of-type {\n",
              "        vertical-align: middle;\n",
              "    }\n",
              "\n",
              "    .dataframe tbody tr th {\n",
              "        vertical-align: top;\n",
              "    }\n",
              "\n",
              "    .dataframe thead th {\n",
              "        text-align: right;\n",
              "    }\n",
              "</style>\n",
              "<table border=\"1\" class=\"dataframe\">\n",
              "  <thead>\n",
              "    <tr style=\"text-align: right;\">\n",
              "      <th></th>\n",
              "      <th>Open</th>\n",
              "      <th>High</th>\n",
              "      <th>Low</th>\n",
              "      <th>Close</th>\n",
              "      <th>Adj Close</th>\n",
              "      <th>Volume</th>\n",
              "    </tr>\n",
              "    <tr>\n",
              "      <th>Date</th>\n",
              "      <th></th>\n",
              "      <th></th>\n",
              "      <th></th>\n",
              "      <th></th>\n",
              "      <th></th>\n",
              "      <th></th>\n",
              "    </tr>\n",
              "  </thead>\n",
              "  <tbody>\n",
              "  </tbody>\n",
              "</table>\n",
              "</div>\n",
              "      <button class=\"colab-df-convert\" onclick=\"convertToInteractive('df-1f296811-db7d-4545-966f-b86dcc15fa8f')\"\n",
              "              title=\"Convert this dataframe to an interactive table.\"\n",
              "              style=\"display:none;\">\n",
              "        \n",
              "  <svg xmlns=\"http://www.w3.org/2000/svg\" height=\"24px\"viewBox=\"0 0 24 24\"\n",
              "       width=\"24px\">\n",
              "    <path d=\"M0 0h24v24H0V0z\" fill=\"none\"/>\n",
              "    <path d=\"M18.56 5.44l.94 2.06.94-2.06 2.06-.94-2.06-.94-.94-2.06-.94 2.06-2.06.94zm-11 1L8.5 8.5l.94-2.06 2.06-.94-2.06-.94L8.5 2.5l-.94 2.06-2.06.94zm10 10l.94 2.06.94-2.06 2.06-.94-2.06-.94-.94-2.06-.94 2.06-2.06.94z\"/><path d=\"M17.41 7.96l-1.37-1.37c-.4-.4-.92-.59-1.43-.59-.52 0-1.04.2-1.43.59L10.3 9.45l-7.72 7.72c-.78.78-.78 2.05 0 2.83L4 21.41c.39.39.9.59 1.41.59.51 0 1.02-.2 1.41-.59l7.78-7.78 2.81-2.81c.8-.78.8-2.07 0-2.86zM5.41 20L4 18.59l7.72-7.72 1.47 1.35L5.41 20z\"/>\n",
              "  </svg>\n",
              "      </button>\n",
              "      \n",
              "  <style>\n",
              "    .colab-df-container {\n",
              "      display:flex;\n",
              "      flex-wrap:wrap;\n",
              "      gap: 12px;\n",
              "    }\n",
              "\n",
              "    .colab-df-convert {\n",
              "      background-color: #E8F0FE;\n",
              "      border: none;\n",
              "      border-radius: 50%;\n",
              "      cursor: pointer;\n",
              "      display: none;\n",
              "      fill: #1967D2;\n",
              "      height: 32px;\n",
              "      padding: 0 0 0 0;\n",
              "      width: 32px;\n",
              "    }\n",
              "\n",
              "    .colab-df-convert:hover {\n",
              "      background-color: #E2EBFA;\n",
              "      box-shadow: 0px 1px 2px rgba(60, 64, 67, 0.3), 0px 1px 3px 1px rgba(60, 64, 67, 0.15);\n",
              "      fill: #174EA6;\n",
              "    }\n",
              "\n",
              "    [theme=dark] .colab-df-convert {\n",
              "      background-color: #3B4455;\n",
              "      fill: #D2E3FC;\n",
              "    }\n",
              "\n",
              "    [theme=dark] .colab-df-convert:hover {\n",
              "      background-color: #434B5C;\n",
              "      box-shadow: 0px 1px 3px 1px rgba(0, 0, 0, 0.15);\n",
              "      filter: drop-shadow(0px 1px 2px rgba(0, 0, 0, 0.3));\n",
              "      fill: #FFFFFF;\n",
              "    }\n",
              "  </style>\n",
              "\n",
              "      <script>\n",
              "        const buttonEl =\n",
              "          document.querySelector('#df-1f296811-db7d-4545-966f-b86dcc15fa8f button.colab-df-convert');\n",
              "        buttonEl.style.display =\n",
              "          google.colab.kernel.accessAllowed ? 'block' : 'none';\n",
              "\n",
              "        async function convertToInteractive(key) {\n",
              "          const element = document.querySelector('#df-1f296811-db7d-4545-966f-b86dcc15fa8f');\n",
              "          const dataTable =\n",
              "            await google.colab.kernel.invokeFunction('convertToInteractive',\n",
              "                                                     [key], {});\n",
              "          if (!dataTable) return;\n",
              "\n",
              "          const docLinkHtml = 'Like what you see? Visit the ' +\n",
              "            '<a target=\"_blank\" href=https://colab.research.google.com/notebooks/data_table.ipynb>data table notebook</a>'\n",
              "            + ' to learn more about interactive tables.';\n",
              "          element.innerHTML = '';\n",
              "          dataTable['output_type'] = 'display_data';\n",
              "          await google.colab.output.renderOutput(dataTable, element);\n",
              "          const docLink = document.createElement('div');\n",
              "          docLink.innerHTML = docLinkHtml;\n",
              "          element.appendChild(docLink);\n",
              "        }\n",
              "      </script>\n",
              "    </div>\n",
              "  </div>\n",
              "  "
            ]
          },
          "metadata": {},
          "execution_count": 43
        }
      ]
    },
    {
      "cell_type": "markdown",
      "source": [
        "**Basic Time Series Manipulation are:**\n",
        "\n",
        "* Shifting or lag values back or forward\n",
        "* To find the difference in values ofr a given time period"
      ],
      "metadata": {
        "id": "9comDOTvcU0B"
      }
    },
    {
      "cell_type": "code",
      "source": [
        "df2[\"Shift\"]=df2.High.shift()"
      ],
      "metadata": {
        "colab": {
          "base_uri": "https://localhost:8080/"
        },
        "id": "6V3Jh-m5bVsi",
        "outputId": "2ed8bb75-3c58-4a5a-fb40-0411ed3610f1"
      },
      "execution_count": 46,
      "outputs": [
        {
          "output_type": "stream",
          "name": "stderr",
          "text": [
            "<ipython-input-46-d61fd78a188d>:1: SettingWithCopyWarning: \n",
            "A value is trying to be set on a copy of a slice from a DataFrame.\n",
            "Try using .loc[row_indexer,col_indexer] = value instead\n",
            "\n",
            "See the caveats in the documentation: https://pandas.pydata.org/pandas-docs/stable/user_guide/indexing.html#returning-a-view-versus-a-copy\n",
            "  df2[\"Shift\"]=df2.High.shift()\n"
          ]
        }
      ]
    },
    {
      "cell_type": "code",
      "source": [
        "df2.head()"
      ],
      "metadata": {
        "colab": {
          "base_uri": "https://localhost:8080/",
          "height": 238
        },
        "id": "8B9UugYbczTf",
        "outputId": "5c3b874b-8bc1-48b0-8197-97341cadb1a6"
      },
      "execution_count": 47,
      "outputs": [
        {
          "output_type": "execute_result",
          "data": {
            "text/plain": [
              "                    Open          High           Low         Close  \\\n",
              "Date                                                                 \n",
              "2022-04-01  45554.164063  46616.242188  44403.140625  46281.644531   \n",
              "2022-04-02  46285.500000  47028.281250  45782.511719  45868.949219   \n",
              "2022-04-03  45859.128906  47313.476563  45634.105469  46453.566406   \n",
              "2022-04-04  46445.273438  46791.089844  45235.816406  46622.675781   \n",
              "2022-04-05  46624.507813  47106.140625  45544.808594  45555.992188   \n",
              "\n",
              "               Adj Close       Volume         Shift  \n",
              "Date                                                 \n",
              "2022-04-01  46281.644531  38162644287           NaN  \n",
              "2022-04-02  45868.949219  29336594194  46616.242188  \n",
              "2022-04-03  46453.566406  25414397610  47028.281250  \n",
              "2022-04-04  46622.675781  32499785455  47313.476563  \n",
              "2022-04-05  45555.992188  29640604055  46791.089844  "
            ],
            "text/html": [
              "\n",
              "  <div id=\"df-47db61bf-604b-4cd0-8230-973c069d806a\">\n",
              "    <div class=\"colab-df-container\">\n",
              "      <div>\n",
              "<style scoped>\n",
              "    .dataframe tbody tr th:only-of-type {\n",
              "        vertical-align: middle;\n",
              "    }\n",
              "\n",
              "    .dataframe tbody tr th {\n",
              "        vertical-align: top;\n",
              "    }\n",
              "\n",
              "    .dataframe thead th {\n",
              "        text-align: right;\n",
              "    }\n",
              "</style>\n",
              "<table border=\"1\" class=\"dataframe\">\n",
              "  <thead>\n",
              "    <tr style=\"text-align: right;\">\n",
              "      <th></th>\n",
              "      <th>Open</th>\n",
              "      <th>High</th>\n",
              "      <th>Low</th>\n",
              "      <th>Close</th>\n",
              "      <th>Adj Close</th>\n",
              "      <th>Volume</th>\n",
              "      <th>Shift</th>\n",
              "    </tr>\n",
              "    <tr>\n",
              "      <th>Date</th>\n",
              "      <th></th>\n",
              "      <th></th>\n",
              "      <th></th>\n",
              "      <th></th>\n",
              "      <th></th>\n",
              "      <th></th>\n",
              "      <th></th>\n",
              "    </tr>\n",
              "  </thead>\n",
              "  <tbody>\n",
              "    <tr>\n",
              "      <th>2022-04-01</th>\n",
              "      <td>45554.164063</td>\n",
              "      <td>46616.242188</td>\n",
              "      <td>44403.140625</td>\n",
              "      <td>46281.644531</td>\n",
              "      <td>46281.644531</td>\n",
              "      <td>38162644287</td>\n",
              "      <td>NaN</td>\n",
              "    </tr>\n",
              "    <tr>\n",
              "      <th>2022-04-02</th>\n",
              "      <td>46285.500000</td>\n",
              "      <td>47028.281250</td>\n",
              "      <td>45782.511719</td>\n",
              "      <td>45868.949219</td>\n",
              "      <td>45868.949219</td>\n",
              "      <td>29336594194</td>\n",
              "      <td>46616.242188</td>\n",
              "    </tr>\n",
              "    <tr>\n",
              "      <th>2022-04-03</th>\n",
              "      <td>45859.128906</td>\n",
              "      <td>47313.476563</td>\n",
              "      <td>45634.105469</td>\n",
              "      <td>46453.566406</td>\n",
              "      <td>46453.566406</td>\n",
              "      <td>25414397610</td>\n",
              "      <td>47028.281250</td>\n",
              "    </tr>\n",
              "    <tr>\n",
              "      <th>2022-04-04</th>\n",
              "      <td>46445.273438</td>\n",
              "      <td>46791.089844</td>\n",
              "      <td>45235.816406</td>\n",
              "      <td>46622.675781</td>\n",
              "      <td>46622.675781</td>\n",
              "      <td>32499785455</td>\n",
              "      <td>47313.476563</td>\n",
              "    </tr>\n",
              "    <tr>\n",
              "      <th>2022-04-05</th>\n",
              "      <td>46624.507813</td>\n",
              "      <td>47106.140625</td>\n",
              "      <td>45544.808594</td>\n",
              "      <td>45555.992188</td>\n",
              "      <td>45555.992188</td>\n",
              "      <td>29640604055</td>\n",
              "      <td>46791.089844</td>\n",
              "    </tr>\n",
              "  </tbody>\n",
              "</table>\n",
              "</div>\n",
              "      <button class=\"colab-df-convert\" onclick=\"convertToInteractive('df-47db61bf-604b-4cd0-8230-973c069d806a')\"\n",
              "              title=\"Convert this dataframe to an interactive table.\"\n",
              "              style=\"display:none;\">\n",
              "        \n",
              "  <svg xmlns=\"http://www.w3.org/2000/svg\" height=\"24px\"viewBox=\"0 0 24 24\"\n",
              "       width=\"24px\">\n",
              "    <path d=\"M0 0h24v24H0V0z\" fill=\"none\"/>\n",
              "    <path d=\"M18.56 5.44l.94 2.06.94-2.06 2.06-.94-2.06-.94-.94-2.06-.94 2.06-2.06.94zm-11 1L8.5 8.5l.94-2.06 2.06-.94-2.06-.94L8.5 2.5l-.94 2.06-2.06.94zm10 10l.94 2.06.94-2.06 2.06-.94-2.06-.94-.94-2.06-.94 2.06-2.06.94z\"/><path d=\"M17.41 7.96l-1.37-1.37c-.4-.4-.92-.59-1.43-.59-.52 0-1.04.2-1.43.59L10.3 9.45l-7.72 7.72c-.78.78-.78 2.05 0 2.83L4 21.41c.39.39.9.59 1.41.59.51 0 1.02-.2 1.41-.59l7.78-7.78 2.81-2.81c.8-.78.8-2.07 0-2.86zM5.41 20L4 18.59l7.72-7.72 1.47 1.35L5.41 20z\"/>\n",
              "  </svg>\n",
              "      </button>\n",
              "      \n",
              "  <style>\n",
              "    .colab-df-container {\n",
              "      display:flex;\n",
              "      flex-wrap:wrap;\n",
              "      gap: 12px;\n",
              "    }\n",
              "\n",
              "    .colab-df-convert {\n",
              "      background-color: #E8F0FE;\n",
              "      border: none;\n",
              "      border-radius: 50%;\n",
              "      cursor: pointer;\n",
              "      display: none;\n",
              "      fill: #1967D2;\n",
              "      height: 32px;\n",
              "      padding: 0 0 0 0;\n",
              "      width: 32px;\n",
              "    }\n",
              "\n",
              "    .colab-df-convert:hover {\n",
              "      background-color: #E2EBFA;\n",
              "      box-shadow: 0px 1px 2px rgba(60, 64, 67, 0.3), 0px 1px 3px 1px rgba(60, 64, 67, 0.15);\n",
              "      fill: #174EA6;\n",
              "    }\n",
              "\n",
              "    [theme=dark] .colab-df-convert {\n",
              "      background-color: #3B4455;\n",
              "      fill: #D2E3FC;\n",
              "    }\n",
              "\n",
              "    [theme=dark] .colab-df-convert:hover {\n",
              "      background-color: #434B5C;\n",
              "      box-shadow: 0px 1px 3px 1px rgba(0, 0, 0, 0.15);\n",
              "      filter: drop-shadow(0px 1px 2px rgba(0, 0, 0, 0.3));\n",
              "      fill: #FFFFFF;\n",
              "    }\n",
              "  </style>\n",
              "\n",
              "      <script>\n",
              "        const buttonEl =\n",
              "          document.querySelector('#df-47db61bf-604b-4cd0-8230-973c069d806a button.colab-df-convert');\n",
              "        buttonEl.style.display =\n",
              "          google.colab.kernel.accessAllowed ? 'block' : 'none';\n",
              "\n",
              "        async function convertToInteractive(key) {\n",
              "          const element = document.querySelector('#df-47db61bf-604b-4cd0-8230-973c069d806a');\n",
              "          const dataTable =\n",
              "            await google.colab.kernel.invokeFunction('convertToInteractive',\n",
              "                                                     [key], {});\n",
              "          if (!dataTable) return;\n",
              "\n",
              "          const docLinkHtml = 'Like what you see? Visit the ' +\n",
              "            '<a target=\"_blank\" href=https://colab.research.google.com/notebooks/data_table.ipynb>data table notebook</a>'\n",
              "            + ' to learn more about interactive tables.';\n",
              "          element.innerHTML = '';\n",
              "          dataTable['output_type'] = 'display_data';\n",
              "          await google.colab.output.renderOutput(dataTable, element);\n",
              "          const docLink = document.createElement('div');\n",
              "          docLink.innerHTML = docLinkHtml;\n",
              "          element.appendChild(docLink);\n",
              "        }\n",
              "      </script>\n",
              "    </div>\n",
              "  </div>\n",
              "  "
            ]
          },
          "metadata": {},
          "execution_count": 47
        }
      ]
    },
    {
      "cell_type": "code",
      "source": [
        "df2[\"Lag\"]=df2.High.shift(periods=-1)"
      ],
      "metadata": {
        "colab": {
          "base_uri": "https://localhost:8080/"
        },
        "id": "V2cMPznIc06Z",
        "outputId": "f2ed562f-750b-46b2-ac41-ba06b3819ed9"
      },
      "execution_count": 49,
      "outputs": [
        {
          "output_type": "stream",
          "name": "stderr",
          "text": [
            "<ipython-input-49-d377baeb531e>:1: SettingWithCopyWarning: \n",
            "A value is trying to be set on a copy of a slice from a DataFrame.\n",
            "Try using .loc[row_indexer,col_indexer] = value instead\n",
            "\n",
            "See the caveats in the documentation: https://pandas.pydata.org/pandas-docs/stable/user_guide/indexing.html#returning-a-view-versus-a-copy\n",
            "  df2[\"Lag\"]=df2.High.shift(periods=-1)\n"
          ]
        }
      ]
    },
    {
      "cell_type": "code",
      "source": [
        "df2.tail()"
      ],
      "metadata": {
        "colab": {
          "base_uri": "https://localhost:8080/",
          "height": 238
        },
        "id": "YrWYXgsUc_eT",
        "outputId": "2705027d-1db4-439d-b142-26574273288a"
      },
      "execution_count": 51,
      "outputs": [
        {
          "output_type": "execute_result",
          "data": {
            "text/plain": [
              "                    Open          High           Low         Close  \\\n",
              "Date                                                                 \n",
              "2022-07-27  21244.169922  22986.529297  21070.806641  22930.548828   \n",
              "2022-07-28  22933.640625  24110.470703  22722.265625  23843.886719   \n",
              "2022-07-29  23845.212891  24294.787109  23481.173828  23804.632813   \n",
              "2022-07-30  23796.818359  24572.580078  23580.507813  23656.207031   \n",
              "2022-07-31  23652.070313  24121.642578  23275.703125  23336.896484   \n",
              "\n",
              "               Adj Close       Volume         Shift           Lag  \n",
              "Date                                                               \n",
              "2022-07-27  22930.548828  31758955233  21361.121094  24110.470703  \n",
              "2022-07-28  23843.886719  40212386158  22986.529297  24294.787109  \n",
              "2022-07-29  23804.632813  35887249746  24110.470703  24572.580078  \n",
              "2022-07-30  23656.207031  28148218301  24294.787109  24121.642578  \n",
              "2022-07-31  23336.896484  23553591896  24572.580078           NaN  "
            ],
            "text/html": [
              "\n",
              "  <div id=\"df-352c09d8-1127-4c0e-9fb8-bc4980dcdd88\">\n",
              "    <div class=\"colab-df-container\">\n",
              "      <div>\n",
              "<style scoped>\n",
              "    .dataframe tbody tr th:only-of-type {\n",
              "        vertical-align: middle;\n",
              "    }\n",
              "\n",
              "    .dataframe tbody tr th {\n",
              "        vertical-align: top;\n",
              "    }\n",
              "\n",
              "    .dataframe thead th {\n",
              "        text-align: right;\n",
              "    }\n",
              "</style>\n",
              "<table border=\"1\" class=\"dataframe\">\n",
              "  <thead>\n",
              "    <tr style=\"text-align: right;\">\n",
              "      <th></th>\n",
              "      <th>Open</th>\n",
              "      <th>High</th>\n",
              "      <th>Low</th>\n",
              "      <th>Close</th>\n",
              "      <th>Adj Close</th>\n",
              "      <th>Volume</th>\n",
              "      <th>Shift</th>\n",
              "      <th>Lag</th>\n",
              "    </tr>\n",
              "    <tr>\n",
              "      <th>Date</th>\n",
              "      <th></th>\n",
              "      <th></th>\n",
              "      <th></th>\n",
              "      <th></th>\n",
              "      <th></th>\n",
              "      <th></th>\n",
              "      <th></th>\n",
              "      <th></th>\n",
              "    </tr>\n",
              "  </thead>\n",
              "  <tbody>\n",
              "    <tr>\n",
              "      <th>2022-07-27</th>\n",
              "      <td>21244.169922</td>\n",
              "      <td>22986.529297</td>\n",
              "      <td>21070.806641</td>\n",
              "      <td>22930.548828</td>\n",
              "      <td>22930.548828</td>\n",
              "      <td>31758955233</td>\n",
              "      <td>21361.121094</td>\n",
              "      <td>24110.470703</td>\n",
              "    </tr>\n",
              "    <tr>\n",
              "      <th>2022-07-28</th>\n",
              "      <td>22933.640625</td>\n",
              "      <td>24110.470703</td>\n",
              "      <td>22722.265625</td>\n",
              "      <td>23843.886719</td>\n",
              "      <td>23843.886719</td>\n",
              "      <td>40212386158</td>\n",
              "      <td>22986.529297</td>\n",
              "      <td>24294.787109</td>\n",
              "    </tr>\n",
              "    <tr>\n",
              "      <th>2022-07-29</th>\n",
              "      <td>23845.212891</td>\n",
              "      <td>24294.787109</td>\n",
              "      <td>23481.173828</td>\n",
              "      <td>23804.632813</td>\n",
              "      <td>23804.632813</td>\n",
              "      <td>35887249746</td>\n",
              "      <td>24110.470703</td>\n",
              "      <td>24572.580078</td>\n",
              "    </tr>\n",
              "    <tr>\n",
              "      <th>2022-07-30</th>\n",
              "      <td>23796.818359</td>\n",
              "      <td>24572.580078</td>\n",
              "      <td>23580.507813</td>\n",
              "      <td>23656.207031</td>\n",
              "      <td>23656.207031</td>\n",
              "      <td>28148218301</td>\n",
              "      <td>24294.787109</td>\n",
              "      <td>24121.642578</td>\n",
              "    </tr>\n",
              "    <tr>\n",
              "      <th>2022-07-31</th>\n",
              "      <td>23652.070313</td>\n",
              "      <td>24121.642578</td>\n",
              "      <td>23275.703125</td>\n",
              "      <td>23336.896484</td>\n",
              "      <td>23336.896484</td>\n",
              "      <td>23553591896</td>\n",
              "      <td>24572.580078</td>\n",
              "      <td>NaN</td>\n",
              "    </tr>\n",
              "  </tbody>\n",
              "</table>\n",
              "</div>\n",
              "      <button class=\"colab-df-convert\" onclick=\"convertToInteractive('df-352c09d8-1127-4c0e-9fb8-bc4980dcdd88')\"\n",
              "              title=\"Convert this dataframe to an interactive table.\"\n",
              "              style=\"display:none;\">\n",
              "        \n",
              "  <svg xmlns=\"http://www.w3.org/2000/svg\" height=\"24px\"viewBox=\"0 0 24 24\"\n",
              "       width=\"24px\">\n",
              "    <path d=\"M0 0h24v24H0V0z\" fill=\"none\"/>\n",
              "    <path d=\"M18.56 5.44l.94 2.06.94-2.06 2.06-.94-2.06-.94-.94-2.06-.94 2.06-2.06.94zm-11 1L8.5 8.5l.94-2.06 2.06-.94-2.06-.94L8.5 2.5l-.94 2.06-2.06.94zm10 10l.94 2.06.94-2.06 2.06-.94-2.06-.94-.94-2.06-.94 2.06-2.06.94z\"/><path d=\"M17.41 7.96l-1.37-1.37c-.4-.4-.92-.59-1.43-.59-.52 0-1.04.2-1.43.59L10.3 9.45l-7.72 7.72c-.78.78-.78 2.05 0 2.83L4 21.41c.39.39.9.59 1.41.59.51 0 1.02-.2 1.41-.59l7.78-7.78 2.81-2.81c.8-.78.8-2.07 0-2.86zM5.41 20L4 18.59l7.72-7.72 1.47 1.35L5.41 20z\"/>\n",
              "  </svg>\n",
              "      </button>\n",
              "      \n",
              "  <style>\n",
              "    .colab-df-container {\n",
              "      display:flex;\n",
              "      flex-wrap:wrap;\n",
              "      gap: 12px;\n",
              "    }\n",
              "\n",
              "    .colab-df-convert {\n",
              "      background-color: #E8F0FE;\n",
              "      border: none;\n",
              "      border-radius: 50%;\n",
              "      cursor: pointer;\n",
              "      display: none;\n",
              "      fill: #1967D2;\n",
              "      height: 32px;\n",
              "      padding: 0 0 0 0;\n",
              "      width: 32px;\n",
              "    }\n",
              "\n",
              "    .colab-df-convert:hover {\n",
              "      background-color: #E2EBFA;\n",
              "      box-shadow: 0px 1px 2px rgba(60, 64, 67, 0.3), 0px 1px 3px 1px rgba(60, 64, 67, 0.15);\n",
              "      fill: #174EA6;\n",
              "    }\n",
              "\n",
              "    [theme=dark] .colab-df-convert {\n",
              "      background-color: #3B4455;\n",
              "      fill: #D2E3FC;\n",
              "    }\n",
              "\n",
              "    [theme=dark] .colab-df-convert:hover {\n",
              "      background-color: #434B5C;\n",
              "      box-shadow: 0px 1px 3px 1px rgba(0, 0, 0, 0.15);\n",
              "      filter: drop-shadow(0px 1px 2px rgba(0, 0, 0, 0.3));\n",
              "      fill: #FFFFFF;\n",
              "    }\n",
              "  </style>\n",
              "\n",
              "      <script>\n",
              "        const buttonEl =\n",
              "          document.querySelector('#df-352c09d8-1127-4c0e-9fb8-bc4980dcdd88 button.colab-df-convert');\n",
              "        buttonEl.style.display =\n",
              "          google.colab.kernel.accessAllowed ? 'block' : 'none';\n",
              "\n",
              "        async function convertToInteractive(key) {\n",
              "          const element = document.querySelector('#df-352c09d8-1127-4c0e-9fb8-bc4980dcdd88');\n",
              "          const dataTable =\n",
              "            await google.colab.kernel.invokeFunction('convertToInteractive',\n",
              "                                                     [key], {});\n",
              "          if (!dataTable) return;\n",
              "\n",
              "          const docLinkHtml = 'Like what you see? Visit the ' +\n",
              "            '<a target=\"_blank\" href=https://colab.research.google.com/notebooks/data_table.ipynb>data table notebook</a>'\n",
              "            + ' to learn more about interactive tables.';\n",
              "          element.innerHTML = '';\n",
              "          dataTable['output_type'] = 'display_data';\n",
              "          await google.colab.output.renderOutput(dataTable, element);\n",
              "          const docLink = document.createElement('div');\n",
              "          docLink.innerHTML = docLinkHtml;\n",
              "          element.appendChild(docLink);\n",
              "        }\n",
              "      </script>\n",
              "    </div>\n",
              "  </div>\n",
              "  "
            ]
          },
          "metadata": {},
          "execution_count": 51
        }
      ]
    },
    {
      "cell_type": "code",
      "source": [
        "df2[\"Difference\"]=df2.High.diff()\n",
        "df2[['High', 'Difference']].head(10)"
      ],
      "metadata": {
        "colab": {
          "base_uri": "https://localhost:8080/",
          "height": 498
        },
        "id": "HfVq8N2hdDgg",
        "outputId": "89a0e0de-f037-40fe-a3e4-3e5825d7417a"
      },
      "execution_count": 52,
      "outputs": [
        {
          "output_type": "stream",
          "name": "stderr",
          "text": [
            "<ipython-input-52-d00644fe9f15>:1: SettingWithCopyWarning: \n",
            "A value is trying to be set on a copy of a slice from a DataFrame.\n",
            "Try using .loc[row_indexer,col_indexer] = value instead\n",
            "\n",
            "See the caveats in the documentation: https://pandas.pydata.org/pandas-docs/stable/user_guide/indexing.html#returning-a-view-versus-a-copy\n",
            "  df2[\"Difference\"]=df2.High.diff()\n"
          ]
        },
        {
          "output_type": "execute_result",
          "data": {
            "text/plain": [
              "                    High   Difference\n",
              "Date                                 \n",
              "2022-04-01  46616.242188          NaN\n",
              "2022-04-02  47028.281250   412.039062\n",
              "2022-04-03  47313.476563   285.195313\n",
              "2022-04-04  46791.089844  -522.386719\n",
              "2022-04-05  47106.140625   315.050781\n",
              "2022-04-06  45544.355469 -1561.785156\n",
              "2022-04-07  43860.699219 -1683.656250\n",
              "2022-04-08  43903.019531    42.320312\n",
              "2022-04-09  42786.816406 -1116.203125\n",
              "2022-04-10  43376.378906   589.562500"
            ],
            "text/html": [
              "\n",
              "  <div id=\"df-09e35756-0f24-4273-82a9-ff73253011a7\">\n",
              "    <div class=\"colab-df-container\">\n",
              "      <div>\n",
              "<style scoped>\n",
              "    .dataframe tbody tr th:only-of-type {\n",
              "        vertical-align: middle;\n",
              "    }\n",
              "\n",
              "    .dataframe tbody tr th {\n",
              "        vertical-align: top;\n",
              "    }\n",
              "\n",
              "    .dataframe thead th {\n",
              "        text-align: right;\n",
              "    }\n",
              "</style>\n",
              "<table border=\"1\" class=\"dataframe\">\n",
              "  <thead>\n",
              "    <tr style=\"text-align: right;\">\n",
              "      <th></th>\n",
              "      <th>High</th>\n",
              "      <th>Difference</th>\n",
              "    </tr>\n",
              "    <tr>\n",
              "      <th>Date</th>\n",
              "      <th></th>\n",
              "      <th></th>\n",
              "    </tr>\n",
              "  </thead>\n",
              "  <tbody>\n",
              "    <tr>\n",
              "      <th>2022-04-01</th>\n",
              "      <td>46616.242188</td>\n",
              "      <td>NaN</td>\n",
              "    </tr>\n",
              "    <tr>\n",
              "      <th>2022-04-02</th>\n",
              "      <td>47028.281250</td>\n",
              "      <td>412.039062</td>\n",
              "    </tr>\n",
              "    <tr>\n",
              "      <th>2022-04-03</th>\n",
              "      <td>47313.476563</td>\n",
              "      <td>285.195313</td>\n",
              "    </tr>\n",
              "    <tr>\n",
              "      <th>2022-04-04</th>\n",
              "      <td>46791.089844</td>\n",
              "      <td>-522.386719</td>\n",
              "    </tr>\n",
              "    <tr>\n",
              "      <th>2022-04-05</th>\n",
              "      <td>47106.140625</td>\n",
              "      <td>315.050781</td>\n",
              "    </tr>\n",
              "    <tr>\n",
              "      <th>2022-04-06</th>\n",
              "      <td>45544.355469</td>\n",
              "      <td>-1561.785156</td>\n",
              "    </tr>\n",
              "    <tr>\n",
              "      <th>2022-04-07</th>\n",
              "      <td>43860.699219</td>\n",
              "      <td>-1683.656250</td>\n",
              "    </tr>\n",
              "    <tr>\n",
              "      <th>2022-04-08</th>\n",
              "      <td>43903.019531</td>\n",
              "      <td>42.320312</td>\n",
              "    </tr>\n",
              "    <tr>\n",
              "      <th>2022-04-09</th>\n",
              "      <td>42786.816406</td>\n",
              "      <td>-1116.203125</td>\n",
              "    </tr>\n",
              "    <tr>\n",
              "      <th>2022-04-10</th>\n",
              "      <td>43376.378906</td>\n",
              "      <td>589.562500</td>\n",
              "    </tr>\n",
              "  </tbody>\n",
              "</table>\n",
              "</div>\n",
              "      <button class=\"colab-df-convert\" onclick=\"convertToInteractive('df-09e35756-0f24-4273-82a9-ff73253011a7')\"\n",
              "              title=\"Convert this dataframe to an interactive table.\"\n",
              "              style=\"display:none;\">\n",
              "        \n",
              "  <svg xmlns=\"http://www.w3.org/2000/svg\" height=\"24px\"viewBox=\"0 0 24 24\"\n",
              "       width=\"24px\">\n",
              "    <path d=\"M0 0h24v24H0V0z\" fill=\"none\"/>\n",
              "    <path d=\"M18.56 5.44l.94 2.06.94-2.06 2.06-.94-2.06-.94-.94-2.06-.94 2.06-2.06.94zm-11 1L8.5 8.5l.94-2.06 2.06-.94-2.06-.94L8.5 2.5l-.94 2.06-2.06.94zm10 10l.94 2.06.94-2.06 2.06-.94-2.06-.94-.94-2.06-.94 2.06-2.06.94z\"/><path d=\"M17.41 7.96l-1.37-1.37c-.4-.4-.92-.59-1.43-.59-.52 0-1.04.2-1.43.59L10.3 9.45l-7.72 7.72c-.78.78-.78 2.05 0 2.83L4 21.41c.39.39.9.59 1.41.59.51 0 1.02-.2 1.41-.59l7.78-7.78 2.81-2.81c.8-.78.8-2.07 0-2.86zM5.41 20L4 18.59l7.72-7.72 1.47 1.35L5.41 20z\"/>\n",
              "  </svg>\n",
              "      </button>\n",
              "      \n",
              "  <style>\n",
              "    .colab-df-container {\n",
              "      display:flex;\n",
              "      flex-wrap:wrap;\n",
              "      gap: 12px;\n",
              "    }\n",
              "\n",
              "    .colab-df-convert {\n",
              "      background-color: #E8F0FE;\n",
              "      border: none;\n",
              "      border-radius: 50%;\n",
              "      cursor: pointer;\n",
              "      display: none;\n",
              "      fill: #1967D2;\n",
              "      height: 32px;\n",
              "      padding: 0 0 0 0;\n",
              "      width: 32px;\n",
              "    }\n",
              "\n",
              "    .colab-df-convert:hover {\n",
              "      background-color: #E2EBFA;\n",
              "      box-shadow: 0px 1px 2px rgba(60, 64, 67, 0.3), 0px 1px 3px 1px rgba(60, 64, 67, 0.15);\n",
              "      fill: #174EA6;\n",
              "    }\n",
              "\n",
              "    [theme=dark] .colab-df-convert {\n",
              "      background-color: #3B4455;\n",
              "      fill: #D2E3FC;\n",
              "    }\n",
              "\n",
              "    [theme=dark] .colab-df-convert:hover {\n",
              "      background-color: #434B5C;\n",
              "      box-shadow: 0px 1px 3px 1px rgba(0, 0, 0, 0.15);\n",
              "      filter: drop-shadow(0px 1px 2px rgba(0, 0, 0, 0.3));\n",
              "      fill: #FFFFFF;\n",
              "    }\n",
              "  </style>\n",
              "\n",
              "      <script>\n",
              "        const buttonEl =\n",
              "          document.querySelector('#df-09e35756-0f24-4273-82a9-ff73253011a7 button.colab-df-convert');\n",
              "        buttonEl.style.display =\n",
              "          google.colab.kernel.accessAllowed ? 'block' : 'none';\n",
              "\n",
              "        async function convertToInteractive(key) {\n",
              "          const element = document.querySelector('#df-09e35756-0f24-4273-82a9-ff73253011a7');\n",
              "          const dataTable =\n",
              "            await google.colab.kernel.invokeFunction('convertToInteractive',\n",
              "                                                     [key], {});\n",
              "          if (!dataTable) return;\n",
              "\n",
              "          const docLinkHtml = 'Like what you see? Visit the ' +\n",
              "            '<a target=\"_blank\" href=https://colab.research.google.com/notebooks/data_table.ipynb>data table notebook</a>'\n",
              "            + ' to learn more about interactive tables.';\n",
              "          element.innerHTML = '';\n",
              "          dataTable['output_type'] = 'display_data';\n",
              "          await google.colab.output.renderOutput(dataTable, element);\n",
              "          const docLink = document.createElement('div');\n",
              "          docLink.innerHTML = docLinkHtml;\n",
              "          element.appendChild(docLink);\n",
              "        }\n",
              "      </script>\n",
              "    </div>\n",
              "  </div>\n",
              "  "
            ]
          },
          "metadata": {},
          "execution_count": 52
        }
      ]
    },
    {
      "cell_type": "code",
      "source": [
        "#Find the 30 days price difference from main df"
      ],
      "metadata": {
        "id": "lfaSgmMbdfXy"
      },
      "execution_count": null,
      "outputs": []
    },
    {
      "cell_type": "markdown",
      "source": [
        "# **Windows Fucntion**\n",
        "\n",
        "Windows is useful to identify sub periods of time series. Also used to create metric for sub periods inside the window.\n",
        "\n",
        "Various Types of Windows are:\n",
        "\n",
        "* Rolling - Same Size\n",
        "* Expanding - Conraining all prior values\n",
        "Calculate metric for periods up to current date, New time series reflects all historical values."
      ],
      "metadata": {
        "id": "Gua9Lpa2ezKE"
      }
    },
    {
      "cell_type": "code",
      "source": [
        "df.head()"
      ],
      "metadata": {
        "colab": {
          "base_uri": "https://localhost:8080/",
          "height": 238
        },
        "id": "_jj9iAlIfZ14",
        "outputId": "4c1570e9-efe3-4961-cabb-07a0bdcf4022"
      },
      "execution_count": 54,
      "outputs": [
        {
          "output_type": "execute_result",
          "data": {
            "text/plain": [
              "                    Open          High           Low         Close  \\\n",
              "Date                                                                 \n",
              "2022-03-07  38429.304688  39430.226563  37260.203125  38062.039063   \n",
              "2022-03-08  38059.902344  39304.441406  37957.386719  38737.269531   \n",
              "2022-03-09  38742.816406  42465.671875  38706.093750  41982.925781   \n",
              "2022-03-10  41974.070313  42004.726563  38832.941406  39437.460938   \n",
              "2022-03-11  39439.968750  40081.679688  38347.433594  38794.972656   \n",
              "\n",
              "               Adj Close       Volume  \n",
              "Date                                   \n",
              "2022-03-07  38062.039063  28546143503  \n",
              "2022-03-08  38737.269531  25776583476  \n",
              "2022-03-09  41982.925781  32284121034  \n",
              "2022-03-10  39437.460938  31078064711  \n",
              "2022-03-11  38794.972656  26364890465  "
            ],
            "text/html": [
              "\n",
              "  <div id=\"df-70a908a5-d4de-4a46-8356-230110474030\">\n",
              "    <div class=\"colab-df-container\">\n",
              "      <div>\n",
              "<style scoped>\n",
              "    .dataframe tbody tr th:only-of-type {\n",
              "        vertical-align: middle;\n",
              "    }\n",
              "\n",
              "    .dataframe tbody tr th {\n",
              "        vertical-align: top;\n",
              "    }\n",
              "\n",
              "    .dataframe thead th {\n",
              "        text-align: right;\n",
              "    }\n",
              "</style>\n",
              "<table border=\"1\" class=\"dataframe\">\n",
              "  <thead>\n",
              "    <tr style=\"text-align: right;\">\n",
              "      <th></th>\n",
              "      <th>Open</th>\n",
              "      <th>High</th>\n",
              "      <th>Low</th>\n",
              "      <th>Close</th>\n",
              "      <th>Adj Close</th>\n",
              "      <th>Volume</th>\n",
              "    </tr>\n",
              "    <tr>\n",
              "      <th>Date</th>\n",
              "      <th></th>\n",
              "      <th></th>\n",
              "      <th></th>\n",
              "      <th></th>\n",
              "      <th></th>\n",
              "      <th></th>\n",
              "    </tr>\n",
              "  </thead>\n",
              "  <tbody>\n",
              "    <tr>\n",
              "      <th>2022-03-07</th>\n",
              "      <td>38429.304688</td>\n",
              "      <td>39430.226563</td>\n",
              "      <td>37260.203125</td>\n",
              "      <td>38062.039063</td>\n",
              "      <td>38062.039063</td>\n",
              "      <td>28546143503</td>\n",
              "    </tr>\n",
              "    <tr>\n",
              "      <th>2022-03-08</th>\n",
              "      <td>38059.902344</td>\n",
              "      <td>39304.441406</td>\n",
              "      <td>37957.386719</td>\n",
              "      <td>38737.269531</td>\n",
              "      <td>38737.269531</td>\n",
              "      <td>25776583476</td>\n",
              "    </tr>\n",
              "    <tr>\n",
              "      <th>2022-03-09</th>\n",
              "      <td>38742.816406</td>\n",
              "      <td>42465.671875</td>\n",
              "      <td>38706.093750</td>\n",
              "      <td>41982.925781</td>\n",
              "      <td>41982.925781</td>\n",
              "      <td>32284121034</td>\n",
              "    </tr>\n",
              "    <tr>\n",
              "      <th>2022-03-10</th>\n",
              "      <td>41974.070313</td>\n",
              "      <td>42004.726563</td>\n",
              "      <td>38832.941406</td>\n",
              "      <td>39437.460938</td>\n",
              "      <td>39437.460938</td>\n",
              "      <td>31078064711</td>\n",
              "    </tr>\n",
              "    <tr>\n",
              "      <th>2022-03-11</th>\n",
              "      <td>39439.968750</td>\n",
              "      <td>40081.679688</td>\n",
              "      <td>38347.433594</td>\n",
              "      <td>38794.972656</td>\n",
              "      <td>38794.972656</td>\n",
              "      <td>26364890465</td>\n",
              "    </tr>\n",
              "  </tbody>\n",
              "</table>\n",
              "</div>\n",
              "      <button class=\"colab-df-convert\" onclick=\"convertToInteractive('df-70a908a5-d4de-4a46-8356-230110474030')\"\n",
              "              title=\"Convert this dataframe to an interactive table.\"\n",
              "              style=\"display:none;\">\n",
              "        \n",
              "  <svg xmlns=\"http://www.w3.org/2000/svg\" height=\"24px\"viewBox=\"0 0 24 24\"\n",
              "       width=\"24px\">\n",
              "    <path d=\"M0 0h24v24H0V0z\" fill=\"none\"/>\n",
              "    <path d=\"M18.56 5.44l.94 2.06.94-2.06 2.06-.94-2.06-.94-.94-2.06-.94 2.06-2.06.94zm-11 1L8.5 8.5l.94-2.06 2.06-.94-2.06-.94L8.5 2.5l-.94 2.06-2.06.94zm10 10l.94 2.06.94-2.06 2.06-.94-2.06-.94-.94-2.06-.94 2.06-2.06.94z\"/><path d=\"M17.41 7.96l-1.37-1.37c-.4-.4-.92-.59-1.43-.59-.52 0-1.04.2-1.43.59L10.3 9.45l-7.72 7.72c-.78.78-.78 2.05 0 2.83L4 21.41c.39.39.9.59 1.41.59.51 0 1.02-.2 1.41-.59l7.78-7.78 2.81-2.81c.8-.78.8-2.07 0-2.86zM5.41 20L4 18.59l7.72-7.72 1.47 1.35L5.41 20z\"/>\n",
              "  </svg>\n",
              "      </button>\n",
              "      \n",
              "  <style>\n",
              "    .colab-df-container {\n",
              "      display:flex;\n",
              "      flex-wrap:wrap;\n",
              "      gap: 12px;\n",
              "    }\n",
              "\n",
              "    .colab-df-convert {\n",
              "      background-color: #E8F0FE;\n",
              "      border: none;\n",
              "      border-radius: 50%;\n",
              "      cursor: pointer;\n",
              "      display: none;\n",
              "      fill: #1967D2;\n",
              "      height: 32px;\n",
              "      padding: 0 0 0 0;\n",
              "      width: 32px;\n",
              "    }\n",
              "\n",
              "    .colab-df-convert:hover {\n",
              "      background-color: #E2EBFA;\n",
              "      box-shadow: 0px 1px 2px rgba(60, 64, 67, 0.3), 0px 1px 3px 1px rgba(60, 64, 67, 0.15);\n",
              "      fill: #174EA6;\n",
              "    }\n",
              "\n",
              "    [theme=dark] .colab-df-convert {\n",
              "      background-color: #3B4455;\n",
              "      fill: #D2E3FC;\n",
              "    }\n",
              "\n",
              "    [theme=dark] .colab-df-convert:hover {\n",
              "      background-color: #434B5C;\n",
              "      box-shadow: 0px 1px 3px 1px rgba(0, 0, 0, 0.15);\n",
              "      filter: drop-shadow(0px 1px 2px rgba(0, 0, 0, 0.3));\n",
              "      fill: #FFFFFF;\n",
              "    }\n",
              "  </style>\n",
              "\n",
              "      <script>\n",
              "        const buttonEl =\n",
              "          document.querySelector('#df-70a908a5-d4de-4a46-8356-230110474030 button.colab-df-convert');\n",
              "        buttonEl.style.display =\n",
              "          google.colab.kernel.accessAllowed ? 'block' : 'none';\n",
              "\n",
              "        async function convertToInteractive(key) {\n",
              "          const element = document.querySelector('#df-70a908a5-d4de-4a46-8356-230110474030');\n",
              "          const dataTable =\n",
              "            await google.colab.kernel.invokeFunction('convertToInteractive',\n",
              "                                                     [key], {});\n",
              "          if (!dataTable) return;\n",
              "\n",
              "          const docLinkHtml = 'Like what you see? Visit the ' +\n",
              "            '<a target=\"_blank\" href=https://colab.research.google.com/notebooks/data_table.ipynb>data table notebook</a>'\n",
              "            + ' to learn more about interactive tables.';\n",
              "          element.innerHTML = '';\n",
              "          dataTable['output_type'] = 'display_data';\n",
              "          await google.colab.output.renderOutput(dataTable, element);\n",
              "          const docLink = document.createElement('div');\n",
              "          docLink.innerHTML = docLinkHtml;\n",
              "          element.appendChild(docLink);\n",
              "        }\n",
              "      </script>\n",
              "    </div>\n",
              "  </div>\n",
              "  "
            ]
          },
          "metadata": {},
          "execution_count": 54
        }
      ]
    },
    {
      "cell_type": "code",
      "source": [
        "df['45 High']=df['High'].rolling(45).mean()"
      ],
      "metadata": {
        "id": "ZtuwiGhQfQMU"
      },
      "execution_count": 55,
      "outputs": []
    },
    {
      "cell_type": "code",
      "source": [
        "df.head()"
      ],
      "metadata": {
        "colab": {
          "base_uri": "https://localhost:8080/",
          "height": 238
        },
        "id": "OOoYD6xXhEsi",
        "outputId": "722bfa7b-0307-4fa0-def6-303c3293b1b0"
      },
      "execution_count": 61,
      "outputs": [
        {
          "output_type": "execute_result",
          "data": {
            "text/plain": [
              "                    Open          High           Low         Close  \\\n",
              "Date                                                                 \n",
              "2022-03-07  38429.304688  39430.226563  37260.203125  38062.039063   \n",
              "2022-03-08  38059.902344  39304.441406  37957.386719  38737.269531   \n",
              "2022-03-09  38742.816406  42465.671875  38706.093750  41982.925781   \n",
              "2022-03-10  41974.070313  42004.726563  38832.941406  39437.460938   \n",
              "2022-03-11  39439.968750  40081.679688  38347.433594  38794.972656   \n",
              "\n",
              "               Adj Close       Volume  45 High  \n",
              "Date                                            \n",
              "2022-03-07  38062.039063  28546143503      NaN  \n",
              "2022-03-08  38737.269531  25776583476      NaN  \n",
              "2022-03-09  41982.925781  32284121034      NaN  \n",
              "2022-03-10  39437.460938  31078064711      NaN  \n",
              "2022-03-11  38794.972656  26364890465      NaN  "
            ],
            "text/html": [
              "\n",
              "  <div id=\"df-628bcbe1-eba9-401f-a72e-a67d9755235d\">\n",
              "    <div class=\"colab-df-container\">\n",
              "      <div>\n",
              "<style scoped>\n",
              "    .dataframe tbody tr th:only-of-type {\n",
              "        vertical-align: middle;\n",
              "    }\n",
              "\n",
              "    .dataframe tbody tr th {\n",
              "        vertical-align: top;\n",
              "    }\n",
              "\n",
              "    .dataframe thead th {\n",
              "        text-align: right;\n",
              "    }\n",
              "</style>\n",
              "<table border=\"1\" class=\"dataframe\">\n",
              "  <thead>\n",
              "    <tr style=\"text-align: right;\">\n",
              "      <th></th>\n",
              "      <th>Open</th>\n",
              "      <th>High</th>\n",
              "      <th>Low</th>\n",
              "      <th>Close</th>\n",
              "      <th>Adj Close</th>\n",
              "      <th>Volume</th>\n",
              "      <th>45 High</th>\n",
              "    </tr>\n",
              "    <tr>\n",
              "      <th>Date</th>\n",
              "      <th></th>\n",
              "      <th></th>\n",
              "      <th></th>\n",
              "      <th></th>\n",
              "      <th></th>\n",
              "      <th></th>\n",
              "      <th></th>\n",
              "    </tr>\n",
              "  </thead>\n",
              "  <tbody>\n",
              "    <tr>\n",
              "      <th>2022-03-07</th>\n",
              "      <td>38429.304688</td>\n",
              "      <td>39430.226563</td>\n",
              "      <td>37260.203125</td>\n",
              "      <td>38062.039063</td>\n",
              "      <td>38062.039063</td>\n",
              "      <td>28546143503</td>\n",
              "      <td>NaN</td>\n",
              "    </tr>\n",
              "    <tr>\n",
              "      <th>2022-03-08</th>\n",
              "      <td>38059.902344</td>\n",
              "      <td>39304.441406</td>\n",
              "      <td>37957.386719</td>\n",
              "      <td>38737.269531</td>\n",
              "      <td>38737.269531</td>\n",
              "      <td>25776583476</td>\n",
              "      <td>NaN</td>\n",
              "    </tr>\n",
              "    <tr>\n",
              "      <th>2022-03-09</th>\n",
              "      <td>38742.816406</td>\n",
              "      <td>42465.671875</td>\n",
              "      <td>38706.093750</td>\n",
              "      <td>41982.925781</td>\n",
              "      <td>41982.925781</td>\n",
              "      <td>32284121034</td>\n",
              "      <td>NaN</td>\n",
              "    </tr>\n",
              "    <tr>\n",
              "      <th>2022-03-10</th>\n",
              "      <td>41974.070313</td>\n",
              "      <td>42004.726563</td>\n",
              "      <td>38832.941406</td>\n",
              "      <td>39437.460938</td>\n",
              "      <td>39437.460938</td>\n",
              "      <td>31078064711</td>\n",
              "      <td>NaN</td>\n",
              "    </tr>\n",
              "    <tr>\n",
              "      <th>2022-03-11</th>\n",
              "      <td>39439.968750</td>\n",
              "      <td>40081.679688</td>\n",
              "      <td>38347.433594</td>\n",
              "      <td>38794.972656</td>\n",
              "      <td>38794.972656</td>\n",
              "      <td>26364890465</td>\n",
              "      <td>NaN</td>\n",
              "    </tr>\n",
              "  </tbody>\n",
              "</table>\n",
              "</div>\n",
              "      <button class=\"colab-df-convert\" onclick=\"convertToInteractive('df-628bcbe1-eba9-401f-a72e-a67d9755235d')\"\n",
              "              title=\"Convert this dataframe to an interactive table.\"\n",
              "              style=\"display:none;\">\n",
              "        \n",
              "  <svg xmlns=\"http://www.w3.org/2000/svg\" height=\"24px\"viewBox=\"0 0 24 24\"\n",
              "       width=\"24px\">\n",
              "    <path d=\"M0 0h24v24H0V0z\" fill=\"none\"/>\n",
              "    <path d=\"M18.56 5.44l.94 2.06.94-2.06 2.06-.94-2.06-.94-.94-2.06-.94 2.06-2.06.94zm-11 1L8.5 8.5l.94-2.06 2.06-.94-2.06-.94L8.5 2.5l-.94 2.06-2.06.94zm10 10l.94 2.06.94-2.06 2.06-.94-2.06-.94-.94-2.06-.94 2.06-2.06.94z\"/><path d=\"M17.41 7.96l-1.37-1.37c-.4-.4-.92-.59-1.43-.59-.52 0-1.04.2-1.43.59L10.3 9.45l-7.72 7.72c-.78.78-.78 2.05 0 2.83L4 21.41c.39.39.9.59 1.41.59.51 0 1.02-.2 1.41-.59l7.78-7.78 2.81-2.81c.8-.78.8-2.07 0-2.86zM5.41 20L4 18.59l7.72-7.72 1.47 1.35L5.41 20z\"/>\n",
              "  </svg>\n",
              "      </button>\n",
              "      \n",
              "  <style>\n",
              "    .colab-df-container {\n",
              "      display:flex;\n",
              "      flex-wrap:wrap;\n",
              "      gap: 12px;\n",
              "    }\n",
              "\n",
              "    .colab-df-convert {\n",
              "      background-color: #E8F0FE;\n",
              "      border: none;\n",
              "      border-radius: 50%;\n",
              "      cursor: pointer;\n",
              "      display: none;\n",
              "      fill: #1967D2;\n",
              "      height: 32px;\n",
              "      padding: 0 0 0 0;\n",
              "      width: 32px;\n",
              "    }\n",
              "\n",
              "    .colab-df-convert:hover {\n",
              "      background-color: #E2EBFA;\n",
              "      box-shadow: 0px 1px 2px rgba(60, 64, 67, 0.3), 0px 1px 3px 1px rgba(60, 64, 67, 0.15);\n",
              "      fill: #174EA6;\n",
              "    }\n",
              "\n",
              "    [theme=dark] .colab-df-convert {\n",
              "      background-color: #3B4455;\n",
              "      fill: #D2E3FC;\n",
              "    }\n",
              "\n",
              "    [theme=dark] .colab-df-convert:hover {\n",
              "      background-color: #434B5C;\n",
              "      box-shadow: 0px 1px 3px 1px rgba(0, 0, 0, 0.15);\n",
              "      filter: drop-shadow(0px 1px 2px rgba(0, 0, 0, 0.3));\n",
              "      fill: #FFFFFF;\n",
              "    }\n",
              "  </style>\n",
              "\n",
              "      <script>\n",
              "        const buttonEl =\n",
              "          document.querySelector('#df-628bcbe1-eba9-401f-a72e-a67d9755235d button.colab-df-convert');\n",
              "        buttonEl.style.display =\n",
              "          google.colab.kernel.accessAllowed ? 'block' : 'none';\n",
              "\n",
              "        async function convertToInteractive(key) {\n",
              "          const element = document.querySelector('#df-628bcbe1-eba9-401f-a72e-a67d9755235d');\n",
              "          const dataTable =\n",
              "            await google.colab.kernel.invokeFunction('convertToInteractive',\n",
              "                                                     [key], {});\n",
              "          if (!dataTable) return;\n",
              "\n",
              "          const docLinkHtml = 'Like what you see? Visit the ' +\n",
              "            '<a target=\"_blank\" href=https://colab.research.google.com/notebooks/data_table.ipynb>data table notebook</a>'\n",
              "            + ' to learn more about interactive tables.';\n",
              "          element.innerHTML = '';\n",
              "          dataTable['output_type'] = 'display_data';\n",
              "          await google.colab.output.renderOutput(dataTable, element);\n",
              "          const docLink = document.createElement('div');\n",
              "          docLink.innerHTML = docLinkHtml;\n",
              "          element.appendChild(docLink);\n",
              "        }\n",
              "      </script>\n",
              "    </div>\n",
              "  </div>\n",
              "  "
            ]
          },
          "metadata": {},
          "execution_count": 61
        }
      ]
    },
    {
      "cell_type": "code",
      "source": [
        "import plotly.graph_objects as go\n",
        "fig=go.Figure()\n",
        "fig.add_trace(go.Scatter(x=df.index, y=df['High'], mode='lines', name=\"Actual Trend\",line=dict(color='chartreuse')))\n",
        "fig.add_trace(go.Scatter(x=df.index, y=df['45 High'], mode='lines', name=\"Rolling 45 avg Trend\",line=dict(color='crimson')))\n",
        "fig.update_layout(template='plotly_dark', title_text='High value and the Rolling mean of High value:')\n",
        "fig.show()"
      ],
      "metadata": {
        "colab": {
          "base_uri": "https://localhost:8080/",
          "height": 542
        },
        "id": "vXpbzsFbgqf5",
        "outputId": "d0bee73d-2581-4a9a-b027-18f17cd442dd"
      },
      "execution_count": 59,
      "outputs": [
        {
          "output_type": "display_data",
          "data": {
            "text/html": [
              "<html>\n",
              "<head><meta charset=\"utf-8\" /></head>\n",
              "<body>\n",
              "    <div>            <script src=\"https://cdnjs.cloudflare.com/ajax/libs/mathjax/2.7.5/MathJax.js?config=TeX-AMS-MML_SVG\"></script><script type=\"text/javascript\">if (window.MathJax) {MathJax.Hub.Config({SVG: {font: \"STIX-Web\"}});}</script>                <script type=\"text/javascript\">window.PlotlyConfig = {MathJaxConfig: 'local'};</script>\n",
              "        <script src=\"https://cdn.plot.ly/plotly-2.8.3.min.js\"></script>                <div id=\"b566f7f6-85cf-4238-9618-f444990bade4\" class=\"plotly-graph-div\" style=\"height:525px; width:100%;\"></div>            <script type=\"text/javascript\">                                    window.PLOTLYENV=window.PLOTLYENV || {};                                    if (document.getElementById(\"b566f7f6-85cf-4238-9618-f444990bade4\")) {                    Plotly.newPlot(                        \"b566f7f6-85cf-4238-9618-f444990bade4\",                        [{\"line\":{\"color\":\"chartreuse\"},\"mode\":\"lines\",\"name\":\"Actual Trend\",\"x\":[\"2022-03-07T00:00:00\",\"2022-03-08T00:00:00\",\"2022-03-09T00:00:00\",\"2022-03-10T00:00:00\",\"2022-03-11T00:00:00\",\"2022-03-12T00:00:00\",\"2022-03-13T00:00:00\",\"2022-03-14T00:00:00\",\"2022-03-15T00:00:00\",\"2022-03-16T00:00:00\",\"2022-03-17T00:00:00\",\"2022-03-18T00:00:00\",\"2022-03-19T00:00:00\",\"2022-03-20T00:00:00\",\"2022-03-21T00:00:00\",\"2022-03-22T00:00:00\",\"2022-03-23T00:00:00\",\"2022-03-24T00:00:00\",\"2022-03-25T00:00:00\",\"2022-03-26T00:00:00\",\"2022-03-27T00:00:00\",\"2022-03-28T00:00:00\",\"2022-03-29T00:00:00\",\"2022-03-30T00:00:00\",\"2022-03-31T00:00:00\",\"2022-04-01T00:00:00\",\"2022-04-02T00:00:00\",\"2022-04-03T00:00:00\",\"2022-04-04T00:00:00\",\"2022-04-05T00:00:00\",\"2022-04-06T00:00:00\",\"2022-04-07T00:00:00\",\"2022-04-08T00:00:00\",\"2022-04-09T00:00:00\",\"2022-04-10T00:00:00\",\"2022-04-11T00:00:00\",\"2022-04-12T00:00:00\",\"2022-04-13T00:00:00\",\"2022-04-14T00:00:00\",\"2022-04-15T00:00:00\",\"2022-04-16T00:00:00\",\"2022-04-17T00:00:00\",\"2022-04-18T00:00:00\",\"2022-04-19T00:00:00\",\"2022-04-20T00:00:00\",\"2022-04-21T00:00:00\",\"2022-04-22T00:00:00\",\"2022-04-23T00:00:00\",\"2022-04-24T00:00:00\",\"2022-04-25T00:00:00\",\"2022-04-26T00:00:00\",\"2022-04-27T00:00:00\",\"2022-04-28T00:00:00\",\"2022-04-29T00:00:00\",\"2022-04-30T00:00:00\",\"2022-05-01T00:00:00\",\"2022-05-02T00:00:00\",\"2022-05-03T00:00:00\",\"2022-05-04T00:00:00\",\"2022-05-05T00:00:00\",\"2022-05-06T00:00:00\",\"2022-05-07T00:00:00\",\"2022-05-08T00:00:00\",\"2022-05-09T00:00:00\",\"2022-05-10T00:00:00\",\"2022-05-11T00:00:00\",\"2022-05-12T00:00:00\",\"2022-05-13T00:00:00\",\"2022-05-14T00:00:00\",\"2022-05-15T00:00:00\",\"2022-05-16T00:00:00\",\"2022-05-17T00:00:00\",\"2022-05-18T00:00:00\",\"2022-05-19T00:00:00\",\"2022-05-20T00:00:00\",\"2022-05-21T00:00:00\",\"2022-05-22T00:00:00\",\"2022-05-23T00:00:00\",\"2022-05-24T00:00:00\",\"2022-05-25T00:00:00\",\"2022-05-26T00:00:00\",\"2022-05-27T00:00:00\",\"2022-05-28T00:00:00\",\"2022-05-29T00:00:00\",\"2022-05-30T00:00:00\",\"2022-05-31T00:00:00\",\"2022-06-01T00:00:00\",\"2022-06-02T00:00:00\",\"2022-06-03T00:00:00\",\"2022-06-04T00:00:00\",\"2022-06-05T00:00:00\",\"2022-06-06T00:00:00\",\"2022-06-07T00:00:00\",\"2022-06-08T00:00:00\",\"2022-06-09T00:00:00\",\"2022-06-10T00:00:00\",\"2022-06-11T00:00:00\",\"2022-06-12T00:00:00\",\"2022-06-13T00:00:00\",\"2022-06-14T00:00:00\",\"2022-06-15T00:00:00\",\"2022-06-16T00:00:00\",\"2022-06-17T00:00:00\",\"2022-06-18T00:00:00\",\"2022-06-19T00:00:00\",\"2022-06-20T00:00:00\",\"2022-06-21T00:00:00\",\"2022-06-22T00:00:00\",\"2022-06-23T00:00:00\",\"2022-06-24T00:00:00\",\"2022-06-25T00:00:00\",\"2022-06-26T00:00:00\",\"2022-06-27T00:00:00\",\"2022-06-28T00:00:00\",\"2022-06-29T00:00:00\",\"2022-06-30T00:00:00\",\"2022-07-01T00:00:00\",\"2022-07-02T00:00:00\",\"2022-07-03T00:00:00\",\"2022-07-04T00:00:00\",\"2022-07-05T00:00:00\",\"2022-07-06T00:00:00\",\"2022-07-07T00:00:00\",\"2022-07-08T00:00:00\",\"2022-07-09T00:00:00\",\"2022-07-10T00:00:00\",\"2022-07-11T00:00:00\",\"2022-07-12T00:00:00\",\"2022-07-13T00:00:00\",\"2022-07-14T00:00:00\",\"2022-07-15T00:00:00\",\"2022-07-16T00:00:00\",\"2022-07-17T00:00:00\",\"2022-07-18T00:00:00\",\"2022-07-19T00:00:00\",\"2022-07-20T00:00:00\",\"2022-07-21T00:00:00\",\"2022-07-22T00:00:00\",\"2022-07-23T00:00:00\",\"2022-07-24T00:00:00\",\"2022-07-25T00:00:00\",\"2022-07-26T00:00:00\",\"2022-07-27T00:00:00\",\"2022-07-28T00:00:00\",\"2022-07-29T00:00:00\",\"2022-07-30T00:00:00\",\"2022-07-31T00:00:00\",\"2022-08-01T00:00:00\",\"2022-08-02T00:00:00\",\"2022-08-03T00:00:00\",\"2022-08-04T00:00:00\",\"2022-08-05T00:00:00\",\"2022-08-06T00:00:00\",\"2022-08-07T00:00:00\",\"2022-08-08T00:00:00\",\"2022-08-09T00:00:00\",\"2022-08-10T00:00:00\",\"2022-08-11T00:00:00\",\"2022-08-12T00:00:00\",\"2022-08-13T00:00:00\",\"2022-08-14T00:00:00\",\"2022-08-15T00:00:00\",\"2022-08-16T00:00:00\",\"2022-08-17T00:00:00\",\"2022-08-18T00:00:00\",\"2022-08-19T00:00:00\",\"2022-08-20T00:00:00\",\"2022-08-21T00:00:00\",\"2022-08-22T00:00:00\",\"2022-08-23T00:00:00\",\"2022-08-24T00:00:00\",\"2022-08-25T00:00:00\",\"2022-08-26T00:00:00\",\"2022-08-27T00:00:00\",\"2022-08-28T00:00:00\",\"2022-08-29T00:00:00\",\"2022-08-30T00:00:00\",\"2022-08-31T00:00:00\",\"2022-09-01T00:00:00\",\"2022-09-02T00:00:00\",\"2022-09-03T00:00:00\",\"2022-09-04T00:00:00\",\"2022-09-05T00:00:00\",\"2022-09-06T00:00:00\",\"2022-09-07T00:00:00\",\"2022-09-08T00:00:00\",\"2022-09-09T00:00:00\",\"2022-09-10T00:00:00\",\"2022-09-11T00:00:00\",\"2022-09-12T00:00:00\",\"2022-09-13T00:00:00\",\"2022-09-14T00:00:00\",\"2022-09-15T00:00:00\",\"2022-09-16T00:00:00\",\"2022-09-17T00:00:00\",\"2022-09-18T00:00:00\",\"2022-09-19T00:00:00\",\"2022-09-20T00:00:00\",\"2022-09-21T00:00:00\",\"2022-09-22T00:00:00\",\"2022-09-23T00:00:00\",\"2022-09-24T00:00:00\",\"2022-09-25T00:00:00\",\"2022-09-26T00:00:00\",\"2022-09-27T00:00:00\",\"2022-09-28T00:00:00\",\"2022-09-29T00:00:00\",\"2022-09-30T00:00:00\",\"2022-10-01T00:00:00\",\"2022-10-02T00:00:00\",\"2022-10-03T00:00:00\",\"2022-10-04T00:00:00\",\"2022-10-05T00:00:00\",\"2022-10-06T00:00:00\",\"2022-10-07T00:00:00\",\"2022-10-08T00:00:00\",\"2022-10-09T00:00:00\",\"2022-10-10T00:00:00\",\"2022-10-11T00:00:00\",\"2022-10-12T00:00:00\",\"2022-10-13T00:00:00\",\"2022-10-14T00:00:00\",\"2022-10-15T00:00:00\",\"2022-10-16T00:00:00\",\"2022-10-17T00:00:00\",\"2022-10-18T00:00:00\",\"2022-10-19T00:00:00\",\"2022-10-20T00:00:00\",\"2022-10-21T00:00:00\",\"2022-10-22T00:00:00\",\"2022-10-23T00:00:00\",\"2022-10-24T00:00:00\",\"2022-10-25T00:00:00\",\"2022-10-26T00:00:00\",\"2022-10-27T00:00:00\",\"2022-10-28T00:00:00\",\"2022-10-29T00:00:00\",\"2022-10-30T00:00:00\",\"2022-10-31T00:00:00\",\"2022-11-01T00:00:00\",\"2022-11-02T00:00:00\",\"2022-11-03T00:00:00\",\"2022-11-04T00:00:00\",\"2022-11-05T00:00:00\",\"2022-11-06T00:00:00\",\"2022-11-07T00:00:00\",\"2022-11-08T00:00:00\",\"2022-11-09T00:00:00\",\"2022-11-10T00:00:00\",\"2022-11-11T00:00:00\",\"2022-11-12T00:00:00\",\"2022-11-13T00:00:00\",\"2022-11-14T00:00:00\",\"2022-11-15T00:00:00\",\"2022-11-16T00:00:00\",\"2022-11-17T00:00:00\",\"2022-11-18T00:00:00\",\"2022-11-19T00:00:00\",\"2022-11-20T00:00:00\",\"2022-11-21T00:00:00\",\"2022-11-22T00:00:00\",\"2022-11-23T00:00:00\",\"2022-11-24T00:00:00\",\"2022-11-25T00:00:00\",\"2022-11-26T00:00:00\",\"2022-11-27T00:00:00\",\"2022-11-28T00:00:00\",\"2022-11-29T00:00:00\",\"2022-11-30T00:00:00\",\"2022-12-01T00:00:00\",\"2022-12-02T00:00:00\",\"2022-12-03T00:00:00\",\"2022-12-04T00:00:00\",\"2022-12-05T00:00:00\",\"2022-12-06T00:00:00\",\"2022-12-07T00:00:00\",\"2022-12-08T00:00:00\",\"2022-12-09T00:00:00\",\"2022-12-10T00:00:00\",\"2022-12-11T00:00:00\",\"2022-12-12T00:00:00\",\"2022-12-13T00:00:00\",\"2022-12-14T00:00:00\",\"2022-12-15T00:00:00\",\"2022-12-16T00:00:00\",\"2022-12-17T00:00:00\",\"2022-12-18T00:00:00\",\"2022-12-19T00:00:00\",\"2022-12-20T00:00:00\",\"2022-12-21T00:00:00\",\"2022-12-22T00:00:00\",\"2022-12-23T00:00:00\",\"2022-12-24T00:00:00\",\"2022-12-25T00:00:00\",\"2022-12-26T00:00:00\",\"2022-12-27T00:00:00\",\"2022-12-28T00:00:00\",\"2022-12-29T00:00:00\",\"2022-12-30T00:00:00\",\"2022-12-31T00:00:00\",\"2023-01-01T00:00:00\",\"2023-01-02T00:00:00\",\"2023-01-03T00:00:00\",\"2023-01-04T00:00:00\",\"2023-01-05T00:00:00\",\"2023-01-06T00:00:00\",\"2023-01-07T00:00:00\",\"2023-01-08T00:00:00\",\"2023-01-09T00:00:00\",\"2023-01-10T00:00:00\",\"2023-01-11T00:00:00\",\"2023-01-12T00:00:00\",\"2023-01-13T00:00:00\",\"2023-01-14T00:00:00\",\"2023-01-15T00:00:00\",\"2023-01-16T00:00:00\",\"2023-01-17T00:00:00\",\"2023-01-18T00:00:00\",\"2023-01-19T00:00:00\",\"2023-01-20T00:00:00\",\"2023-01-21T00:00:00\",\"2023-01-22T00:00:00\",\"2023-01-23T00:00:00\",\"2023-01-24T00:00:00\",\"2023-01-25T00:00:00\",\"2023-01-26T00:00:00\",\"2023-01-27T00:00:00\",\"2023-01-28T00:00:00\",\"2023-01-29T00:00:00\",\"2023-01-30T00:00:00\",\"2023-01-31T00:00:00\",\"2023-02-01T00:00:00\",\"2023-02-02T00:00:00\",\"2023-02-03T00:00:00\",\"2023-02-04T00:00:00\",\"2023-02-05T00:00:00\",\"2023-02-06T00:00:00\",\"2023-02-07T00:00:00\",\"2023-02-08T00:00:00\",\"2023-02-09T00:00:00\",\"2023-02-10T00:00:00\",\"2023-02-11T00:00:00\",\"2023-02-12T00:00:00\",\"2023-02-13T00:00:00\",\"2023-02-14T00:00:00\",\"2023-02-15T00:00:00\",\"2023-02-16T00:00:00\",\"2023-02-17T00:00:00\",\"2023-02-18T00:00:00\",\"2023-02-19T00:00:00\",\"2023-02-20T00:00:00\",\"2023-02-21T00:00:00\",\"2023-02-22T00:00:00\",\"2023-02-23T00:00:00\",\"2023-02-24T00:00:00\",\"2023-02-25T00:00:00\",\"2023-02-26T00:00:00\",\"2023-02-27T00:00:00\",\"2023-02-28T00:00:00\",\"2023-03-01T00:00:00\",\"2023-03-02T00:00:00\",\"2023-03-03T00:00:00\",\"2023-03-04T00:00:00\",\"2023-03-05T00:00:00\",\"2023-03-06T00:00:00\",\"2023-03-07T00:00:00\"],\"y\":[39430.226563,39304.441406,42465.671875,42004.726563,40081.679688,39308.597656,39209.351563,39742.5,39794.628906,41465.453125,41287.535156,42195.746094,42316.554688,42241.164063,41454.410156,43124.707031,42893.507813,44131.855469,44999.492188,44735.996094,46827.546875,48086.835938,48022.289063,47655.148438,47512.027344,46616.242188,47028.28125,47313.476563,46791.089844,47106.140625,45544.355469,43860.699219,43903.019531,42786.816406,43376.378906,42424.589844,40617.585938,41430.054688,41451.480469,40617.722656,40633.679688,40570.726563,40986.320313,41672.960938,42126.300781,42893.582031,40777.757813,39935.859375,39845.925781,40491.753906,40713.890625,39397.917969,40269.464844,39887.269531,38771.210938,38627.859375,39074.972656,38629.996094,39902.949219,39789.28125,36624.359375,36129.925781,35502.941406,34222.074219,32596.308594,32013.402344,30032.439453,30924.802734,30192.802734,31308.191406,31305.341797,30694.490234,30618.716797,30430.751953,30664.976563,29588.869141,30425.861328,30590.585938,29774.355469,30157.785156,29834.160156,29346.943359,28814.900391,29498.009766,31949.630859,32249.863281,31957.285156,30604.734375,30633.035156,29930.564453,30117.744141,31693.291016,31489.683594,31253.691406,30609.310547,30245.808594,29401.916016,28502.685547,26795.589844,23018.951172,22642.671875,22868.921875,21243.3125,20736.041016,20683.822266,20913.322266,21620.628906,20835.75,21135.761719,21472.917969,21520.914063,21783.724609,21478.089844,21164.423828,20364.15625,20141.160156,20632.671875,19371.748047,19558.269531,20258.748047,20635.466797,20595.529297,21771.816406,22314.941406,21877.138672,21591.080078,20856.353516,20043.445313,20223.052734,20789.894531,21138.244141,21514.404297,21600.640625,22633.033203,23666.962891,24196.818359,23388.322266,23671.927734,22977.210938,22974.001953,22649.121094,21361.121094,22986.529297,24110.470703,24294.787109,24572.580078,24121.642578,23464.787109,23415.041016,23578.650391,23198.009766,23422.828125,23326.5625,23359.009766,24203.689453,23898.615234,24127.414063,24822.628906,24412.566406,24860.050781,24974.914063,25135.589844,24228.416016,24407.058594,23563.832031,23213.3125,21350.806641,21668.845703,21531.462891,21646.203125,21783.076172,21789.636719,21804.908203,20340.775391,20139.054688,20357.462891,20542.644531,20420.990234,20198.390625,20401.568359,20037.009766,19999.689453,20031.160156,20155.269531,19427.171875,19417.351563,21439.410156,21760.275391,21770.552734,22439.181641,22673.820313,20467.201172,20318.166016,19870.628906,20162.53125,20127.234375,19639.480469,19602.457031,19674.630859,19456.910156,19464.671875,19310.197266,19134.732422,19274.873047,20338.455078,19688.34375,19589.265625,20109.849609,19471.154297,19370.308594,19653.542969,20380.34375,20343.748047,20408.392578,20041.085938,19601.695313,19542.539063,19515.466797,19241.960938,19203.199219,19453.328125,19889.146484,19212.541016,19389.603516,19635.802734,19666.994141,19348.416016,19315.199219,19237.384766,19248.068359,19646.652344,19589.125,20348.412109,20938.134766,20854.044922,20724.980469,20988.394531,20917.005859,20795.320313,20647.289063,20742.810547,20382.095703,21209.560547,21446.886719,21345.376953,21053.246094,20664.607422,18590.458984,18054.3125,17650.943359,17066.675781,16920.765625,17109.324219,17051.962891,16960.294922,16726.439453,16947.058594,16797.876953,16746.779297,16291.223633,16253.047852,16638.193359,16771.474609,16603.316406,16666.863281,16594.40625,16482.933594,16522.257813,17190.9375,17197.498047,17088.660156,17116.041016,17157.767578,17378.152344,17091.863281,17109.376953,17267.916016,17280.546875,17216.826172,17245.634766,17212.564453,17930.085938,18318.53125,17846.744141,17505.525391,16800.589844,16815.386719,16807.527344,17012.984375,16916.800781,16866.673828,16905.21875,16864.703125,16860.554688,16920.123047,16959.845703,16768.169922,16651.755859,16643.427734,16628.986328,16630.439453,16759.34375,16760.447266,16964.585938,16884.021484,16991.994141,16975.017578,17091.144531,17389.957031,17484.720703,17934.896484,19030.087891,19964.322266,21075.142578,20993.748047,21360.875,21438.660156,21564.501953,21163.011719,22692.357422,23282.347656,23056.730469,23126.486328,23134.011719,23722.099609,23237.078125,23417.720703,23165.896484,23919.890625,23789.347656,23225.021484,23764.539063,24167.210938,23678.103516,23556.949219,23423.435547,23119.279297,23310.974609,23367.958984,22996.4375,21941.185547,21891.410156,22060.994141,21898.414063,22293.140625,24307.841797,25134.117188,24924.041016,24798.835938,25093.054688,25020.458984,25126.851563,24472.339844,24572.089844,24103.705078,23210.210938,23654.367188,23857.890625,23585.384766,23880.632813,23739.138672,23479.347656,22405.177734,22613.685547,22584.292969,22522.318359],\"type\":\"scatter\"},{\"line\":{\"color\":\"crimson\"},\"mode\":\"lines\",\"name\":\"Rolling 45 avg Trend\",\"x\":[\"2022-03-07T00:00:00\",\"2022-03-08T00:00:00\",\"2022-03-09T00:00:00\",\"2022-03-10T00:00:00\",\"2022-03-11T00:00:00\",\"2022-03-12T00:00:00\",\"2022-03-13T00:00:00\",\"2022-03-14T00:00:00\",\"2022-03-15T00:00:00\",\"2022-03-16T00:00:00\",\"2022-03-17T00:00:00\",\"2022-03-18T00:00:00\",\"2022-03-19T00:00:00\",\"2022-03-20T00:00:00\",\"2022-03-21T00:00:00\",\"2022-03-22T00:00:00\",\"2022-03-23T00:00:00\",\"2022-03-24T00:00:00\",\"2022-03-25T00:00:00\",\"2022-03-26T00:00:00\",\"2022-03-27T00:00:00\",\"2022-03-28T00:00:00\",\"2022-03-29T00:00:00\",\"2022-03-30T00:00:00\",\"2022-03-31T00:00:00\",\"2022-04-01T00:00:00\",\"2022-04-02T00:00:00\",\"2022-04-03T00:00:00\",\"2022-04-04T00:00:00\",\"2022-04-05T00:00:00\",\"2022-04-06T00:00:00\",\"2022-04-07T00:00:00\",\"2022-04-08T00:00:00\",\"2022-04-09T00:00:00\",\"2022-04-10T00:00:00\",\"2022-04-11T00:00:00\",\"2022-04-12T00:00:00\",\"2022-04-13T00:00:00\",\"2022-04-14T00:00:00\",\"2022-04-15T00:00:00\",\"2022-04-16T00:00:00\",\"2022-04-17T00:00:00\",\"2022-04-18T00:00:00\",\"2022-04-19T00:00:00\",\"2022-04-20T00:00:00\",\"2022-04-21T00:00:00\",\"2022-04-22T00:00:00\",\"2022-04-23T00:00:00\",\"2022-04-24T00:00:00\",\"2022-04-25T00:00:00\",\"2022-04-26T00:00:00\",\"2022-04-27T00:00:00\",\"2022-04-28T00:00:00\",\"2022-04-29T00:00:00\",\"2022-04-30T00:00:00\",\"2022-05-01T00:00:00\",\"2022-05-02T00:00:00\",\"2022-05-03T00:00:00\",\"2022-05-04T00:00:00\",\"2022-05-05T00:00:00\",\"2022-05-06T00:00:00\",\"2022-05-07T00:00:00\",\"2022-05-08T00:00:00\",\"2022-05-09T00:00:00\",\"2022-05-10T00:00:00\",\"2022-05-11T00:00:00\",\"2022-05-12T00:00:00\",\"2022-05-13T00:00:00\",\"2022-05-14T00:00:00\",\"2022-05-15T00:00:00\",\"2022-05-16T00:00:00\",\"2022-05-17T00:00:00\",\"2022-05-18T00:00:00\",\"2022-05-19T00:00:00\",\"2022-05-20T00:00:00\",\"2022-05-21T00:00:00\",\"2022-05-22T00:00:00\",\"2022-05-23T00:00:00\",\"2022-05-24T00:00:00\",\"2022-05-25T00:00:00\",\"2022-05-26T00:00:00\",\"2022-05-27T00:00:00\",\"2022-05-28T00:00:00\",\"2022-05-29T00:00:00\",\"2022-05-30T00:00:00\",\"2022-05-31T00:00:00\",\"2022-06-01T00:00:00\",\"2022-06-02T00:00:00\",\"2022-06-03T00:00:00\",\"2022-06-04T00:00:00\",\"2022-06-05T00:00:00\",\"2022-06-06T00:00:00\",\"2022-06-07T00:00:00\",\"2022-06-08T00:00:00\",\"2022-06-09T00:00:00\",\"2022-06-10T00:00:00\",\"2022-06-11T00:00:00\",\"2022-06-12T00:00:00\",\"2022-06-13T00:00:00\",\"2022-06-14T00:00:00\",\"2022-06-15T00:00:00\",\"2022-06-16T00:00:00\",\"2022-06-17T00:00:00\",\"2022-06-18T00:00:00\",\"2022-06-19T00:00:00\",\"2022-06-20T00:00:00\",\"2022-06-21T00:00:00\",\"2022-06-22T00:00:00\",\"2022-06-23T00:00:00\",\"2022-06-24T00:00:00\",\"2022-06-25T00:00:00\",\"2022-06-26T00:00:00\",\"2022-06-27T00:00:00\",\"2022-06-28T00:00:00\",\"2022-06-29T00:00:00\",\"2022-06-30T00:00:00\",\"2022-07-01T00:00:00\",\"2022-07-02T00:00:00\",\"2022-07-03T00:00:00\",\"2022-07-04T00:00:00\",\"2022-07-05T00:00:00\",\"2022-07-06T00:00:00\",\"2022-07-07T00:00:00\",\"2022-07-08T00:00:00\",\"2022-07-09T00:00:00\",\"2022-07-10T00:00:00\",\"2022-07-11T00:00:00\",\"2022-07-12T00:00:00\",\"2022-07-13T00:00:00\",\"2022-07-14T00:00:00\",\"2022-07-15T00:00:00\",\"2022-07-16T00:00:00\",\"2022-07-17T00:00:00\",\"2022-07-18T00:00:00\",\"2022-07-19T00:00:00\",\"2022-07-20T00:00:00\",\"2022-07-21T00:00:00\",\"2022-07-22T00:00:00\",\"2022-07-23T00:00:00\",\"2022-07-24T00:00:00\",\"2022-07-25T00:00:00\",\"2022-07-26T00:00:00\",\"2022-07-27T00:00:00\",\"2022-07-28T00:00:00\",\"2022-07-29T00:00:00\",\"2022-07-30T00:00:00\",\"2022-07-31T00:00:00\",\"2022-08-01T00:00:00\",\"2022-08-02T00:00:00\",\"2022-08-03T00:00:00\",\"2022-08-04T00:00:00\",\"2022-08-05T00:00:00\",\"2022-08-06T00:00:00\",\"2022-08-07T00:00:00\",\"2022-08-08T00:00:00\",\"2022-08-09T00:00:00\",\"2022-08-10T00:00:00\",\"2022-08-11T00:00:00\",\"2022-08-12T00:00:00\",\"2022-08-13T00:00:00\",\"2022-08-14T00:00:00\",\"2022-08-15T00:00:00\",\"2022-08-16T00:00:00\",\"2022-08-17T00:00:00\",\"2022-08-18T00:00:00\",\"2022-08-19T00:00:00\",\"2022-08-20T00:00:00\",\"2022-08-21T00:00:00\",\"2022-08-22T00:00:00\",\"2022-08-23T00:00:00\",\"2022-08-24T00:00:00\",\"2022-08-25T00:00:00\",\"2022-08-26T00:00:00\",\"2022-08-27T00:00:00\",\"2022-08-28T00:00:00\",\"2022-08-29T00:00:00\",\"2022-08-30T00:00:00\",\"2022-08-31T00:00:00\",\"2022-09-01T00:00:00\",\"2022-09-02T00:00:00\",\"2022-09-03T00:00:00\",\"2022-09-04T00:00:00\",\"2022-09-05T00:00:00\",\"2022-09-06T00:00:00\",\"2022-09-07T00:00:00\",\"2022-09-08T00:00:00\",\"2022-09-09T00:00:00\",\"2022-09-10T00:00:00\",\"2022-09-11T00:00:00\",\"2022-09-12T00:00:00\",\"2022-09-13T00:00:00\",\"2022-09-14T00:00:00\",\"2022-09-15T00:00:00\",\"2022-09-16T00:00:00\",\"2022-09-17T00:00:00\",\"2022-09-18T00:00:00\",\"2022-09-19T00:00:00\",\"2022-09-20T00:00:00\",\"2022-09-21T00:00:00\",\"2022-09-22T00:00:00\",\"2022-09-23T00:00:00\",\"2022-09-24T00:00:00\",\"2022-09-25T00:00:00\",\"2022-09-26T00:00:00\",\"2022-09-27T00:00:00\",\"2022-09-28T00:00:00\",\"2022-09-29T00:00:00\",\"2022-09-30T00:00:00\",\"2022-10-01T00:00:00\",\"2022-10-02T00:00:00\",\"2022-10-03T00:00:00\",\"2022-10-04T00:00:00\",\"2022-10-05T00:00:00\",\"2022-10-06T00:00:00\",\"2022-10-07T00:00:00\",\"2022-10-08T00:00:00\",\"2022-10-09T00:00:00\",\"2022-10-10T00:00:00\",\"2022-10-11T00:00:00\",\"2022-10-12T00:00:00\",\"2022-10-13T00:00:00\",\"2022-10-14T00:00:00\",\"2022-10-15T00:00:00\",\"2022-10-16T00:00:00\",\"2022-10-17T00:00:00\",\"2022-10-18T00:00:00\",\"2022-10-19T00:00:00\",\"2022-10-20T00:00:00\",\"2022-10-21T00:00:00\",\"2022-10-22T00:00:00\",\"2022-10-23T00:00:00\",\"2022-10-24T00:00:00\",\"2022-10-25T00:00:00\",\"2022-10-26T00:00:00\",\"2022-10-27T00:00:00\",\"2022-10-28T00:00:00\",\"2022-10-29T00:00:00\",\"2022-10-30T00:00:00\",\"2022-10-31T00:00:00\",\"2022-11-01T00:00:00\",\"2022-11-02T00:00:00\",\"2022-11-03T00:00:00\",\"2022-11-04T00:00:00\",\"2022-11-05T00:00:00\",\"2022-11-06T00:00:00\",\"2022-11-07T00:00:00\",\"2022-11-08T00:00:00\",\"2022-11-09T00:00:00\",\"2022-11-10T00:00:00\",\"2022-11-11T00:00:00\",\"2022-11-12T00:00:00\",\"2022-11-13T00:00:00\",\"2022-11-14T00:00:00\",\"2022-11-15T00:00:00\",\"2022-11-16T00:00:00\",\"2022-11-17T00:00:00\",\"2022-11-18T00:00:00\",\"2022-11-19T00:00:00\",\"2022-11-20T00:00:00\",\"2022-11-21T00:00:00\",\"2022-11-22T00:00:00\",\"2022-11-23T00:00:00\",\"2022-11-24T00:00:00\",\"2022-11-25T00:00:00\",\"2022-11-26T00:00:00\",\"2022-11-27T00:00:00\",\"2022-11-28T00:00:00\",\"2022-11-29T00:00:00\",\"2022-11-30T00:00:00\",\"2022-12-01T00:00:00\",\"2022-12-02T00:00:00\",\"2022-12-03T00:00:00\",\"2022-12-04T00:00:00\",\"2022-12-05T00:00:00\",\"2022-12-06T00:00:00\",\"2022-12-07T00:00:00\",\"2022-12-08T00:00:00\",\"2022-12-09T00:00:00\",\"2022-12-10T00:00:00\",\"2022-12-11T00:00:00\",\"2022-12-12T00:00:00\",\"2022-12-13T00:00:00\",\"2022-12-14T00:00:00\",\"2022-12-15T00:00:00\",\"2022-12-16T00:00:00\",\"2022-12-17T00:00:00\",\"2022-12-18T00:00:00\",\"2022-12-19T00:00:00\",\"2022-12-20T00:00:00\",\"2022-12-21T00:00:00\",\"2022-12-22T00:00:00\",\"2022-12-23T00:00:00\",\"2022-12-24T00:00:00\",\"2022-12-25T00:00:00\",\"2022-12-26T00:00:00\",\"2022-12-27T00:00:00\",\"2022-12-28T00:00:00\",\"2022-12-29T00:00:00\",\"2022-12-30T00:00:00\",\"2022-12-31T00:00:00\",\"2023-01-01T00:00:00\",\"2023-01-02T00:00:00\",\"2023-01-03T00:00:00\",\"2023-01-04T00:00:00\",\"2023-01-05T00:00:00\",\"2023-01-06T00:00:00\",\"2023-01-07T00:00:00\",\"2023-01-08T00:00:00\",\"2023-01-09T00:00:00\",\"2023-01-10T00:00:00\",\"2023-01-11T00:00:00\",\"2023-01-12T00:00:00\",\"2023-01-13T00:00:00\",\"2023-01-14T00:00:00\",\"2023-01-15T00:00:00\",\"2023-01-16T00:00:00\",\"2023-01-17T00:00:00\",\"2023-01-18T00:00:00\",\"2023-01-19T00:00:00\",\"2023-01-20T00:00:00\",\"2023-01-21T00:00:00\",\"2023-01-22T00:00:00\",\"2023-01-23T00:00:00\",\"2023-01-24T00:00:00\",\"2023-01-25T00:00:00\",\"2023-01-26T00:00:00\",\"2023-01-27T00:00:00\",\"2023-01-28T00:00:00\",\"2023-01-29T00:00:00\",\"2023-01-30T00:00:00\",\"2023-01-31T00:00:00\",\"2023-02-01T00:00:00\",\"2023-02-02T00:00:00\",\"2023-02-03T00:00:00\",\"2023-02-04T00:00:00\",\"2023-02-05T00:00:00\",\"2023-02-06T00:00:00\",\"2023-02-07T00:00:00\",\"2023-02-08T00:00:00\",\"2023-02-09T00:00:00\",\"2023-02-10T00:00:00\",\"2023-02-11T00:00:00\",\"2023-02-12T00:00:00\",\"2023-02-13T00:00:00\",\"2023-02-14T00:00:00\",\"2023-02-15T00:00:00\",\"2023-02-16T00:00:00\",\"2023-02-17T00:00:00\",\"2023-02-18T00:00:00\",\"2023-02-19T00:00:00\",\"2023-02-20T00:00:00\",\"2023-02-21T00:00:00\",\"2023-02-22T00:00:00\",\"2023-02-23T00:00:00\",\"2023-02-24T00:00:00\",\"2023-02-25T00:00:00\",\"2023-02-26T00:00:00\",\"2023-02-27T00:00:00\",\"2023-02-28T00:00:00\",\"2023-03-01T00:00:00\",\"2023-03-02T00:00:00\",\"2023-03-03T00:00:00\",\"2023-03-04T00:00:00\",\"2023-03-05T00:00:00\",\"2023-03-06T00:00:00\",\"2023-03-07T00:00:00\"],\"y\":[null,null,null,null,null,null,null,null,null,null,null,null,null,null,null,null,null,null,null,null,null,null,null,null,null,null,null,null,null,null,null,null,null,null,null,null,null,null,null,null,null,null,null,null,43047.7781252,43124.74158004445,43157.48194464444,43101.263889088885,43053.290538377776,43062.403298777775,43093.632031422225,43097.822395999996,43109.532725866666,43111.591406422216,43051.71935782222,42992.615451577774,42923.26493073333,42841.34140642222,42789.38107655555,42752.378211977775,42607.92604184445,42457.62421891111,42265.87057306667,42026.37239597778,41756.60156264445,41427.39835084444,41026.18954006666,40646.24539942222,40258.193272666664,39898.10802959999,39557.86579868889,39194.892665,38823.89800353333,38460.33493928889,38094.97573791111,37740.409375066665,37441.85742193333,37146.02556431111,36856.85976571111,36563.11323793333,36283.325911533335,36032.86718755555,35752.5304254,35486.89774311111,35294.273480955555,35107.96644968889,34916.55664064444,34685.85473091111,34440.52304686667,34169.50668402223,33885.59917535555,33683.72213542222,33496.02934028889,33305.09079862222,33085.4809462,32852.85690106666,32630.723524333334,32369.239539955557,32078.313324688894,31728.26310766667,31373.03671877778,31012.90225697778,30626.531510444445,30200.60021704444,29776.034461844443,29426.900303866663,29104.47148442222,28778.533897622223,28487.726953177775,28240.54049484444,28007.374088600005,27824.069314288892,27614.14236117778,27413.511718822225,27170.310937577782,26922.218012222223,26698.622048688885,26448.689409799998,26207.078689311107,25975.829166733332,25776.8646702,25558.412847288888,25362.440191022222,25196.675434066667,25012.661067755558,24829.481510466663,24640.80173617778,24445.880512222222,24239.77035595556,23991.77621533333,23744.85134555556,23512.78732646667,23312.696354244446,23134.91853306667,22995.727387244446,22864.151258755555,22679.596397644444,22505.868489644447,22321.946701466666,22152.27317715556,21983.457899377776,21804.77356777778,21682.192317777775,21622.523003533333,21650.874913244446,21693.7617622,21721.600000044444,21770.966102466668,21830.4994358,21894.828949688886,21945.599783022222,21985.648654555556,22041.000043444445,22090.405555600002,22151.089366355558,22203.927170155555,22256.00915802222,22330.33224828889,22402.51319446667,22502.42196182222,22609.83871531111,22709.903559066668,22817.829513933335,22925.580381999996,22999.026692755557,23056.312152822222,23073.0960938,23070.807855955554,23053.397222288888,23048.265321244446,23052.53190111111,23073.271527844445,23112.41514762222,23115.031206666667,23100.568099044445,23083.217404599996,23061.622743133335,23035.40829,22981.3051216,22908.740798666666,22816.30060771111,22740.99765631111,22660.091710133333,22597.381901088887,22518.56345491111,22446.74635422222,22448.486111155555,22421.236024355556,22369.237847266668,22328.0021702,22285.807508755555,22204.597699733335,22134.672786555555,22055.908073,21979.994314311112,21911.75486117778,21827.680468822226,21744.922569511113,21663.04748268889,21557.563498311112,21459.031423666667,21351.98216151111,21225.584461866667,21111.41349833333,21010.933593822225,20893.454253533335,20770.202604222224,20678.67890628889,20568.992144133335,20475.802734422225,20396.696744844445,20375.130902822224,20345.684288244447,20320.727170177775,20285.057899355554,20236.582769155557,20186.647265688887,20135.770790000002,20111.352691044445,20090.555902844444,20070.464019155555,20055.941840333333,20029.087413266665,20011.114366399997,19994.09735251111,19985.874783066665,19971.402040022225,19955.491796977778,19935.094357755555,19931.114279622223,19936.20985253333,19895.09240462222,19863.71766502222,19845.219487955557,19809.99422753333,19766.686675444445,19778.268750088886,19791.576302155554,19812.12500008889,19822.897395933334,19836.576866422223,19853.079427177778,19888.792838644447,19928.1763022,19970.14223102222,20005.443880333332,20035.5418838,20023.44691851111,19996.3233508,19936.600868155554,19878.341579955555,19819.041579955556,19752.363237955557,19698.603428933333,19645.047569555554,19580.000824755556,19503.705599066667,19424.908463644442,19343.539279622222,19260.209006177778,19185.794618155556,19121.25360251111,19060.27599833333,19001.639453177777,18945.276432333332,18881.744835111112,18806.051215333333,18746.267144155558,18697.407899355556,18643.223350755554,18585.927039977778,18536.318706644444,18488.375781288887,18447.059505244444,18399.143836844443,18342.759939266667,18291.177517400003,18223.00273442222,18140.30698788889,18060.120095533333,17982.066406288886,17914.10399311111,17856.360112911112,17790.836197977776,17721.019227488887,17633.414322977776,17554.154123333334,17456.331163266666,17357.80000006667,17259.387196244443,17166.352257,17082.81028651111,17044.460156311114,17017.932204933335,17001.691753555555,16999.317751822222,16995.9267362,16985.758550422222,16976.67999137778,16969.31757817778,16967.184244844444,16963.012803866666,16962.181033044446,16967.02118062222,16980.1944662,16996.615494844445,17004.10047748889,17011.20425353333,17028.68515631111,17046.85976568889,17076.648437555556,17133.251866377777,17209.742187555552,17296.057855955554,17380.418967066667,17475.357074711108,17571.415277822223,17669.34270837778,17753.45069448889,17877.906119844443,18015.08324657778,18143.723567755555,18273.633333377777,18405.126345533332,18549.04778648889,18682.92586808889,18804.87330731111,18912.592534733332,19047.55134548889,19187.191840266663,19329.95698782222,19484.382595466668,19647.93111977778,19796.044878466666,19943.603732644446,20089.309548622223,20227.399782999997,20370.650260422222,20515.25924477778,20650.288454844445,20760.98489582222,20874.8346788,20995.039973955554,21111.817447933332,21237.68754342222,21408.2964844,21594.4025608,21775.815755244443,21949.910199688886,22132.33315977778,22310.743489622222,22491.895355955556,22655.92191846667,22815.524869866666,22962.613411533333,23079.84262162222,23182.604383777776,23269.12812508889,23324.91128482222,23389.064279622224,23441.914583444446,23487.263194555555,23505.94487857778,23538.182074755554,23535.780642466667,23518.891102533333],\"type\":\"scatter\"}],                        {\"template\":{\"data\":{\"barpolar\":[{\"marker\":{\"line\":{\"color\":\"rgb(17,17,17)\",\"width\":0.5},\"pattern\":{\"fillmode\":\"overlay\",\"size\":10,\"solidity\":0.2}},\"type\":\"barpolar\"}],\"bar\":[{\"error_x\":{\"color\":\"#f2f5fa\"},\"error_y\":{\"color\":\"#f2f5fa\"},\"marker\":{\"line\":{\"color\":\"rgb(17,17,17)\",\"width\":0.5},\"pattern\":{\"fillmode\":\"overlay\",\"size\":10,\"solidity\":0.2}},\"type\":\"bar\"}],\"carpet\":[{\"aaxis\":{\"endlinecolor\":\"#A2B1C6\",\"gridcolor\":\"#506784\",\"linecolor\":\"#506784\",\"minorgridcolor\":\"#506784\",\"startlinecolor\":\"#A2B1C6\"},\"baxis\":{\"endlinecolor\":\"#A2B1C6\",\"gridcolor\":\"#506784\",\"linecolor\":\"#506784\",\"minorgridcolor\":\"#506784\",\"startlinecolor\":\"#A2B1C6\"},\"type\":\"carpet\"}],\"choropleth\":[{\"colorbar\":{\"outlinewidth\":0,\"ticks\":\"\"},\"type\":\"choropleth\"}],\"contourcarpet\":[{\"colorbar\":{\"outlinewidth\":0,\"ticks\":\"\"},\"type\":\"contourcarpet\"}],\"contour\":[{\"colorbar\":{\"outlinewidth\":0,\"ticks\":\"\"},\"colorscale\":[[0.0,\"#0d0887\"],[0.1111111111111111,\"#46039f\"],[0.2222222222222222,\"#7201a8\"],[0.3333333333333333,\"#9c179e\"],[0.4444444444444444,\"#bd3786\"],[0.5555555555555556,\"#d8576b\"],[0.6666666666666666,\"#ed7953\"],[0.7777777777777778,\"#fb9f3a\"],[0.8888888888888888,\"#fdca26\"],[1.0,\"#f0f921\"]],\"type\":\"contour\"}],\"heatmapgl\":[{\"colorbar\":{\"outlinewidth\":0,\"ticks\":\"\"},\"colorscale\":[[0.0,\"#0d0887\"],[0.1111111111111111,\"#46039f\"],[0.2222222222222222,\"#7201a8\"],[0.3333333333333333,\"#9c179e\"],[0.4444444444444444,\"#bd3786\"],[0.5555555555555556,\"#d8576b\"],[0.6666666666666666,\"#ed7953\"],[0.7777777777777778,\"#fb9f3a\"],[0.8888888888888888,\"#fdca26\"],[1.0,\"#f0f921\"]],\"type\":\"heatmapgl\"}],\"heatmap\":[{\"colorbar\":{\"outlinewidth\":0,\"ticks\":\"\"},\"colorscale\":[[0.0,\"#0d0887\"],[0.1111111111111111,\"#46039f\"],[0.2222222222222222,\"#7201a8\"],[0.3333333333333333,\"#9c179e\"],[0.4444444444444444,\"#bd3786\"],[0.5555555555555556,\"#d8576b\"],[0.6666666666666666,\"#ed7953\"],[0.7777777777777778,\"#fb9f3a\"],[0.8888888888888888,\"#fdca26\"],[1.0,\"#f0f921\"]],\"type\":\"heatmap\"}],\"histogram2dcontour\":[{\"colorbar\":{\"outlinewidth\":0,\"ticks\":\"\"},\"colorscale\":[[0.0,\"#0d0887\"],[0.1111111111111111,\"#46039f\"],[0.2222222222222222,\"#7201a8\"],[0.3333333333333333,\"#9c179e\"],[0.4444444444444444,\"#bd3786\"],[0.5555555555555556,\"#d8576b\"],[0.6666666666666666,\"#ed7953\"],[0.7777777777777778,\"#fb9f3a\"],[0.8888888888888888,\"#fdca26\"],[1.0,\"#f0f921\"]],\"type\":\"histogram2dcontour\"}],\"histogram2d\":[{\"colorbar\":{\"outlinewidth\":0,\"ticks\":\"\"},\"colorscale\":[[0.0,\"#0d0887\"],[0.1111111111111111,\"#46039f\"],[0.2222222222222222,\"#7201a8\"],[0.3333333333333333,\"#9c179e\"],[0.4444444444444444,\"#bd3786\"],[0.5555555555555556,\"#d8576b\"],[0.6666666666666666,\"#ed7953\"],[0.7777777777777778,\"#fb9f3a\"],[0.8888888888888888,\"#fdca26\"],[1.0,\"#f0f921\"]],\"type\":\"histogram2d\"}],\"histogram\":[{\"marker\":{\"pattern\":{\"fillmode\":\"overlay\",\"size\":10,\"solidity\":0.2}},\"type\":\"histogram\"}],\"mesh3d\":[{\"colorbar\":{\"outlinewidth\":0,\"ticks\":\"\"},\"type\":\"mesh3d\"}],\"parcoords\":[{\"line\":{\"colorbar\":{\"outlinewidth\":0,\"ticks\":\"\"}},\"type\":\"parcoords\"}],\"pie\":[{\"automargin\":true,\"type\":\"pie\"}],\"scatter3d\":[{\"line\":{\"colorbar\":{\"outlinewidth\":0,\"ticks\":\"\"}},\"marker\":{\"colorbar\":{\"outlinewidth\":0,\"ticks\":\"\"}},\"type\":\"scatter3d\"}],\"scattercarpet\":[{\"marker\":{\"colorbar\":{\"outlinewidth\":0,\"ticks\":\"\"}},\"type\":\"scattercarpet\"}],\"scattergeo\":[{\"marker\":{\"colorbar\":{\"outlinewidth\":0,\"ticks\":\"\"}},\"type\":\"scattergeo\"}],\"scattergl\":[{\"marker\":{\"line\":{\"color\":\"#283442\"}},\"type\":\"scattergl\"}],\"scattermapbox\":[{\"marker\":{\"colorbar\":{\"outlinewidth\":0,\"ticks\":\"\"}},\"type\":\"scattermapbox\"}],\"scatterpolargl\":[{\"marker\":{\"colorbar\":{\"outlinewidth\":0,\"ticks\":\"\"}},\"type\":\"scatterpolargl\"}],\"scatterpolar\":[{\"marker\":{\"colorbar\":{\"outlinewidth\":0,\"ticks\":\"\"}},\"type\":\"scatterpolar\"}],\"scatter\":[{\"marker\":{\"line\":{\"color\":\"#283442\"}},\"type\":\"scatter\"}],\"scatterternary\":[{\"marker\":{\"colorbar\":{\"outlinewidth\":0,\"ticks\":\"\"}},\"type\":\"scatterternary\"}],\"surface\":[{\"colorbar\":{\"outlinewidth\":0,\"ticks\":\"\"},\"colorscale\":[[0.0,\"#0d0887\"],[0.1111111111111111,\"#46039f\"],[0.2222222222222222,\"#7201a8\"],[0.3333333333333333,\"#9c179e\"],[0.4444444444444444,\"#bd3786\"],[0.5555555555555556,\"#d8576b\"],[0.6666666666666666,\"#ed7953\"],[0.7777777777777778,\"#fb9f3a\"],[0.8888888888888888,\"#fdca26\"],[1.0,\"#f0f921\"]],\"type\":\"surface\"}],\"table\":[{\"cells\":{\"fill\":{\"color\":\"#506784\"},\"line\":{\"color\":\"rgb(17,17,17)\"}},\"header\":{\"fill\":{\"color\":\"#2a3f5f\"},\"line\":{\"color\":\"rgb(17,17,17)\"}},\"type\":\"table\"}]},\"layout\":{\"annotationdefaults\":{\"arrowcolor\":\"#f2f5fa\",\"arrowhead\":0,\"arrowwidth\":1},\"autotypenumbers\":\"strict\",\"coloraxis\":{\"colorbar\":{\"outlinewidth\":0,\"ticks\":\"\"}},\"colorscale\":{\"diverging\":[[0,\"#8e0152\"],[0.1,\"#c51b7d\"],[0.2,\"#de77ae\"],[0.3,\"#f1b6da\"],[0.4,\"#fde0ef\"],[0.5,\"#f7f7f7\"],[0.6,\"#e6f5d0\"],[0.7,\"#b8e186\"],[0.8,\"#7fbc41\"],[0.9,\"#4d9221\"],[1,\"#276419\"]],\"sequential\":[[0.0,\"#0d0887\"],[0.1111111111111111,\"#46039f\"],[0.2222222222222222,\"#7201a8\"],[0.3333333333333333,\"#9c179e\"],[0.4444444444444444,\"#bd3786\"],[0.5555555555555556,\"#d8576b\"],[0.6666666666666666,\"#ed7953\"],[0.7777777777777778,\"#fb9f3a\"],[0.8888888888888888,\"#fdca26\"],[1.0,\"#f0f921\"]],\"sequentialminus\":[[0.0,\"#0d0887\"],[0.1111111111111111,\"#46039f\"],[0.2222222222222222,\"#7201a8\"],[0.3333333333333333,\"#9c179e\"],[0.4444444444444444,\"#bd3786\"],[0.5555555555555556,\"#d8576b\"],[0.6666666666666666,\"#ed7953\"],[0.7777777777777778,\"#fb9f3a\"],[0.8888888888888888,\"#fdca26\"],[1.0,\"#f0f921\"]]},\"colorway\":[\"#636efa\",\"#EF553B\",\"#00cc96\",\"#ab63fa\",\"#FFA15A\",\"#19d3f3\",\"#FF6692\",\"#B6E880\",\"#FF97FF\",\"#FECB52\"],\"font\":{\"color\":\"#f2f5fa\"},\"geo\":{\"bgcolor\":\"rgb(17,17,17)\",\"lakecolor\":\"rgb(17,17,17)\",\"landcolor\":\"rgb(17,17,17)\",\"showlakes\":true,\"showland\":true,\"subunitcolor\":\"#506784\"},\"hoverlabel\":{\"align\":\"left\"},\"hovermode\":\"closest\",\"mapbox\":{\"style\":\"dark\"},\"paper_bgcolor\":\"rgb(17,17,17)\",\"plot_bgcolor\":\"rgb(17,17,17)\",\"polar\":{\"angularaxis\":{\"gridcolor\":\"#506784\",\"linecolor\":\"#506784\",\"ticks\":\"\"},\"bgcolor\":\"rgb(17,17,17)\",\"radialaxis\":{\"gridcolor\":\"#506784\",\"linecolor\":\"#506784\",\"ticks\":\"\"}},\"scene\":{\"xaxis\":{\"backgroundcolor\":\"rgb(17,17,17)\",\"gridcolor\":\"#506784\",\"gridwidth\":2,\"linecolor\":\"#506784\",\"showbackground\":true,\"ticks\":\"\",\"zerolinecolor\":\"#C8D4E3\"},\"yaxis\":{\"backgroundcolor\":\"rgb(17,17,17)\",\"gridcolor\":\"#506784\",\"gridwidth\":2,\"linecolor\":\"#506784\",\"showbackground\":true,\"ticks\":\"\",\"zerolinecolor\":\"#C8D4E3\"},\"zaxis\":{\"backgroundcolor\":\"rgb(17,17,17)\",\"gridcolor\":\"#506784\",\"gridwidth\":2,\"linecolor\":\"#506784\",\"showbackground\":true,\"ticks\":\"\",\"zerolinecolor\":\"#C8D4E3\"}},\"shapedefaults\":{\"line\":{\"color\":\"#f2f5fa\"}},\"sliderdefaults\":{\"bgcolor\":\"#C8D4E3\",\"bordercolor\":\"rgb(17,17,17)\",\"borderwidth\":1,\"tickwidth\":0},\"ternary\":{\"aaxis\":{\"gridcolor\":\"#506784\",\"linecolor\":\"#506784\",\"ticks\":\"\"},\"baxis\":{\"gridcolor\":\"#506784\",\"linecolor\":\"#506784\",\"ticks\":\"\"},\"bgcolor\":\"rgb(17,17,17)\",\"caxis\":{\"gridcolor\":\"#506784\",\"linecolor\":\"#506784\",\"ticks\":\"\"}},\"title\":{\"x\":0.05},\"updatemenudefaults\":{\"bgcolor\":\"#506784\",\"borderwidth\":0},\"xaxis\":{\"automargin\":true,\"gridcolor\":\"#283442\",\"linecolor\":\"#506784\",\"ticks\":\"\",\"title\":{\"standoff\":15},\"zerolinecolor\":\"#283442\",\"zerolinewidth\":2},\"yaxis\":{\"automargin\":true,\"gridcolor\":\"#283442\",\"linecolor\":\"#506784\",\"ticks\":\"\",\"title\":{\"standoff\":15},\"zerolinecolor\":\"#283442\",\"zerolinewidth\":2}}},\"title\":{\"text\":\"High value and the Rolling mean of High value:\"}},                        {\"responsive\": true}                    ).then(function(){\n",
              "                            \n",
              "var gd = document.getElementById('b566f7f6-85cf-4238-9618-f444990bade4');\n",
              "var x = new MutationObserver(function (mutations, observer) {{\n",
              "        var display = window.getComputedStyle(gd).display;\n",
              "        if (!display || display === 'none') {{\n",
              "            console.log([gd, 'removed!']);\n",
              "            Plotly.purge(gd);\n",
              "            observer.disconnect();\n",
              "        }}\n",
              "}});\n",
              "\n",
              "// Listen for the removal of the full notebook cells\n",
              "var notebookContainer = gd.closest('#notebook-container');\n",
              "if (notebookContainer) {{\n",
              "    x.observe(notebookContainer, {childList: true});\n",
              "}}\n",
              "\n",
              "// Listen for the clearing of the current output cell\n",
              "var outputEl = gd.closest('.output');\n",
              "if (outputEl) {{\n",
              "    x.observe(outputEl, {childList: true});\n",
              "}}\n",
              "\n",
              "                        })                };                            </script>        </div>\n",
              "</body>\n",
              "</html>"
            ]
          },
          "metadata": {}
        }
      ]
    },
    {
      "cell_type": "code",
      "source": [],
      "metadata": {
        "id": "2BpvxLELgzu1"
      },
      "execution_count": null,
      "outputs": []
    }
  ]
}